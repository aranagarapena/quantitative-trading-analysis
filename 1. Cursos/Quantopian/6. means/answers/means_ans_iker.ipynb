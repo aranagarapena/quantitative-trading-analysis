{
 "cells": [
  {
   "cell_type": "markdown",
   "metadata": {},
   "source": [
    "# Exercises: Means \n",
    "By Christopher van Hoecke and Max Margenot\n",
    "\n",
    "## Lecture Link :\n",
    "https://www.quantopian.com/lectures/means\n",
    "\n",
    "### IMPORTANT NOTE: \n",
    "This lecture corresponds to the Means lecture, which is part of the Quantopian lecture series. This homework expects you to rely heavily on the code presented in the corresponding lecture. Please copy and paste regularly from that lecture when starting to work on the problems, as trying to do them from scratch will likely be too difficult.\n",
    "\n",
    "Part of the Quantopian Lecture Series:\n",
    "\n",
    "* [www.quantopian.com/lectures](https://www.quantopian.com/lectures)\n",
    "* [github.com/quantopian/research_public](https://github.com/quantopian/research_public)\n",
    "\n",
    "----"
   ]
  },
  {
   "cell_type": "markdown",
   "metadata": {},
   "source": [
    "## Key Concepts"
   ]
  },
  {
   "cell_type": "code",
   "execution_count": 2,
   "metadata": {},
   "outputs": [],
   "source": [
    "import yfinance as yf\n",
    "import pandas as pd\n",
    "import scipy.stats as stats\n",
    "import numpy as np"
   ]
  },
  {
   "cell_type": "code",
   "execution_count": 28,
   "metadata": {},
   "outputs": [],
   "source": [
    "# Useful Functions\n",
    "def mode(l):\n",
    "    # Count the number of times each element appears in the list\n",
    "    counts = {}\n",
    "    for e in l:\n",
    "        if e in counts:\n",
    "            counts[e] += 1\n",
    "        else:\n",
    "            counts[e] = 1\n",
    "            \n",
    "    # Return the elements that appear the most times\n",
    "    maxcount = 0\n",
    "    modes = {}\n",
    "    for (key, value) in counts.items():\n",
    "        if value > maxcount:\n",
    "            maxcount = value\n",
    "            modes = {key}\n",
    "        elif value == maxcount:\n",
    "            modes.add(key)\n",
    "            \n",
    "    if maxcount > 1 or len(l) == 1:\n",
    "        return list(modes)\n",
    "    return 'No mode'"
   ]
  },
  {
   "cell_type": "markdown",
   "metadata": {},
   "source": [
    "#### Data:"
   ]
  },
  {
   "cell_type": "code",
   "execution_count": 7,
   "metadata": {},
   "outputs": [
    {
     "name": "stdout",
     "output_type": "stream",
     "text": [
      "[32, 20, 10, 85, 40, 88, 52, 74, 89, 5, 95, 61, 13, 62, 19, 88, 19, 55, 3, 21, 1, 41, 44, 75, 65, 24, 23, 88, 96, 50, 32, 5, 59, 78, 32, 58, 88, 62, 37, 75, 96, 92, 7, 73, 24, 79, 2, 88, 44, 94, 78, 65, 25, 10, 22, 8, 20, 51, 82, 92, 90, 42, 60, 11, 49, 44, 5, 92, 38, 8, 58, 57, 47, 90, 92, 29, 61, 92, 81, 25, 56, 3, 9, 32, 13, 74, 59, 44, 80, 12, 17, 3, 64, 18, 36, 30, 38, 56, 3]\n"
     ]
    }
   ],
   "source": [
    "l=[]\n",
    "for x in range(1,100):\n",
    "    x=np.random.randint(1,100)\n",
    "    l.append(x)\n",
    "    \n",
    "print(l)"
   ]
  },
  {
   "cell_type": "markdown",
   "metadata": {},
   "source": [
    "----"
   ]
  },
  {
   "cell_type": "markdown",
   "metadata": {},
   "source": [
    "# Exercise 1 : Arithmetic mean.\n",
    "## a. Mean of random data set.\n",
    "Find the mean of the randomly generated data set `l`. "
   ]
  },
  {
   "cell_type": "code",
   "execution_count": 30,
   "metadata": {},
   "outputs": [
    {
     "name": "stdout",
     "output_type": "stream",
     "text": [
      "La media del conjunto es:  47.81818181818182\n"
     ]
    }
   ],
   "source": [
    "## Your code goes here       \n",
    "mean = np.mean(l)\n",
    "print('La media del conjunto es: ', mean)"
   ]
  },
  {
   "cell_type": "markdown",
   "metadata": {},
   "source": [
    "## b. Mean of returns\n",
    "Find the mean of the returns of Iteris Inc. (ITI)."
   ]
  },
  {
   "cell_type": "code",
   "execution_count": 32,
   "metadata": {},
   "outputs": [],
   "source": [
    "def get_pricing(ticker, fields='price', start_date='2005-01-01', end_date='2010-01-01'):\n",
    "    \"\"\"\n",
    "    Función para obtener los precios de un activo entre dos fechas usando yfinance.\n",
    "    \n",
    "    Args:\n",
    "        ticker (str): El símbolo del activo (por ejemplo, 'AAPL').\n",
    "        fields (str): El campo que deseas obtener, como 'price'.\n",
    "        start_date (str): La fecha de inicio en formato 'YYYY-MM-DD'.\n",
    "        end_date (str): La fecha de fin en formato 'YYYY-MM-DD'.\n",
    "    \n",
    "    Returns:\n",
    "        pd.Series or pd.DataFrame: Los precios solicitados o los datos completos si el campo es desconocido.\n",
    "    \"\"\"\n",
    "    # Descargar los datos de Yahoo Finance\n",
    "    data = yf.download(ticker, start=start_date, end=end_date)\n",
    "    \n",
    "    # Mapear el campo 'price' a la columna 'Adj Close' de yfinance\n",
    "    if fields == 'price':\n",
    "        return data['Adj Close']\n",
    "    else:\n",
    "        # Si se solicita un campo no implementado, devolver todo el DataFrame\n",
    "        return data\n",
    "\n"
   ]
  },
  {
   "cell_type": "code",
   "execution_count": 45,
   "metadata": {},
   "outputs": [
    {
     "name": "stderr",
     "output_type": "stream",
     "text": [
      "[*********************100%%**********************]  1 of 1 completed"
     ]
    },
    {
     "name": "stdout",
     "output_type": "stream",
     "text": [
      "Media de los retornos: -4.482282705837242e-05\n"
     ]
    },
    {
     "name": "stderr",
     "output_type": "stream",
     "text": [
      "\n"
     ]
    }
   ],
   "source": [
    "price = get_pricing('ITI', fields='price', start_date='2005-01-01', end_date='2010-01-01')\n",
    "returns = price.pct_change()[1:]\n",
    "print(\"Media de los retornos:\" , np.mean(returns))"
   ]
  },
  {
   "cell_type": "markdown",
   "metadata": {},
   "source": [
    "---"
   ]
  },
  {
   "cell_type": "markdown",
   "metadata": {},
   "source": [
    "# Exercise 2 : Median\n",
    "## a. Median of random data set\n",
    "Find the median of the randomly generated data set `l`."
   ]
  },
  {
   "cell_type": "code",
   "execution_count": 46,
   "metadata": {},
   "outputs": [
    {
     "name": "stdout",
     "output_type": "stream",
     "text": [
      "Mediana del conjunto:  47.0\n"
     ]
    }
   ],
   "source": [
    "## Your code goes here   \n",
    "print(\"Mediana del conjunto: \", np.median(l))"
   ]
  },
  {
   "cell_type": "markdown",
   "metadata": {},
   "source": [
    "## b. Median of the returns.\n",
    "Find the median associated with the returns of Bank of America Corp. (BAC)."
   ]
  },
  {
   "cell_type": "code",
   "execution_count": 47,
   "metadata": {},
   "outputs": [
    {
     "name": "stderr",
     "output_type": "stream",
     "text": [
      "[*********************100%%**********************]  1 of 1 completed"
     ]
    },
    {
     "name": "stdout",
     "output_type": "stream",
     "text": [
      "Mediana de los retornos:  -0.0004460636802688378\n"
     ]
    },
    {
     "name": "stderr",
     "output_type": "stream",
     "text": [
      "\n"
     ]
    }
   ],
   "source": [
    "price = get_pricing('BAC', fields='open_price', start_date='2005-01-01', end_date='2010-01-01')\n",
    "returns = price.pct_change()[1:]\n",
    "\n",
    "## Your code goes here\n",
    "print(\"Mediana de los retornos: \", np.median(returns))"
   ]
  },
  {
   "cell_type": "markdown",
   "metadata": {},
   "source": [
    "----"
   ]
  },
  {
   "cell_type": "markdown",
   "metadata": {},
   "source": [
    "# Exercise 3 : Mode\n",
    "## a. Mode of a random data set. \n",
    "Find the mode of the random generated data set `l`."
   ]
  },
  {
   "cell_type": "code",
   "execution_count": 50,
   "metadata": {},
   "outputs": [
    {
     "name": "stdout",
     "output_type": "stream",
     "text": [
      "Moda del conjunto de datos:  [88, 92]\n"
     ]
    }
   ],
   "source": [
    "## Your code goes here\n",
    "print(\"Moda del conjunto de datos: \", stats.mode(l))"
   ]
  },
  {
   "cell_type": "markdown",
   "metadata": {},
   "source": [
    "## b. Mode of the returns. \n",
    "Find the mode associated with the returns of Goldman Sachs Corp. (GS). *Recall with returns, there may not be any values that appear more than once.*"
   ]
  },
  {
   "cell_type": "code",
   "execution_count": 62,
   "metadata": {},
   "outputs": [
    {
     "name": "stderr",
     "output_type": "stream",
     "text": [
      "[*********************100%%**********************]  1 of 1 completed"
     ]
    },
    {
     "name": "stdout",
     "output_type": "stream",
     "text": [
      "Mode of bins: [(-0.0030383740000731185, 0.0001783257985697173), (0.0001783257985697173, 0.003395025597212553)]\n"
     ]
    },
    {
     "name": "stderr",
     "output_type": "stream",
     "text": [
      "\n"
     ]
    }
   ],
   "source": [
    "start = '2014-01-01'\n",
    "end = '2015-01-01'\n",
    "pricing = get_pricing('GS', fields='price', start_date=start, end_date=end)\n",
    "returns = pricing.pct_change()[1:]\n",
    "\n",
    "## Your code goes here\n",
    "# esto no tiene sentido porque son numeros reales -> print(\"Moda de los retonos: \", stats.mode(returns))\n",
    "hist, bins = np.histogram(returns, 20)\n",
    "maxfreq = max(hist)\n",
    "\n",
    "print('Mode of bins:', [(bins[i], bins[i+1]) for i, j in enumerate(hist) if j == maxfreq])"
   ]
  },
  {
   "cell_type": "markdown",
   "metadata": {},
   "source": [
    "----"
   ]
  },
  {
   "cell_type": "markdown",
   "metadata": {},
   "source": [
    "# Exercise 4 : Geometric mean\n",
    "## a. Geometric Mean of random data set.\n",
    "Find the Geometric mean of the random generated data set.\n",
    "\n",
    "¿Qué es la media geometrica?\n",
    "\n",
    "La media geométrica es especialmente útil cuando se trabaja con tasas de crecimiento, rendimientos financieros, porcentajes o cuando los valores están relacionados de forma multiplicativa. Esto es frecuente en situaciones donde el cambio es relativo o en proporciones, como el crecimiento compuesto, tasas de retorno y cambios en porcentajes.\n",
    "\n",
    "Ejemplo práctico con rendimientos financieros\n",
    "Supongamos que tienes una inversión que tuvo diferentes rendimientos en tres años consecutivos:\n",
    "\n",
    "- Año 1: +50% (1.50 multiplicativo)\n",
    "- Año 2: -30% (0.70 multiplicativo)\n",
    "- Año 3: +20% (1.20 multiplicativo)\n",
    "\n",
    "Cálculo de la media geométrica en el ejemplo\n",
    "Valores multiplicativos: Primero, convertimos los porcentajes en factores multiplicativos:\n",
    "\n",
    "Año 1: +50% → 1.50\n",
    "Año 2: -30% → 0.70\n",
    "Año 3: +20% → 1.20\n",
    "\n",
    "La media geométrica es aproximadamente 1.080, lo que significa que el rendimiento anual promedio compuesto fue del 8%. Este 8% refleja mejor el rendimiento real de la inversión, ya que toma en cuenta la naturaleza multiplicativa de los rendimientos.  En el ejemplo, la media aritmética daba un rendimiento promedio del 13%, pero esto no es correcto porque los rendimientos de una inversión no se suman directamente. Si hubieras usado este 13% para predecir el crecimiento final, habrías sobreestimado el rendimiento."
   ]
  },
  {
   "cell_type": "code",
   "execution_count": 63,
   "metadata": {},
   "outputs": [
    {
     "name": "stdout",
     "output_type": "stream",
     "text": [
      "Media geométrica del conjunto:  33.56222831651789\n"
     ]
    }
   ],
   "source": [
    "## Your code goes here\n",
    "print(\"Media geométrica del conjunto: \", stats.gmean(l))"
   ]
  },
  {
   "cell_type": "markdown",
   "metadata": {},
   "source": [
    "## b. Geometric Mean of returns. \n",
    "Find the Geometric Mean of the price of Citi bank (C) for the last 5 years. "
   ]
  },
  {
   "cell_type": "code",
   "execution_count": 70,
   "metadata": {},
   "outputs": [
    {
     "name": "stderr",
     "output_type": "stream",
     "text": [
      "[*********************100%%**********************]  1 of 1 completed"
     ]
    },
    {
     "name": "stdout",
     "output_type": "stream",
     "text": [
      "Media geométrica del conjunto:  232.5769756281446\n"
     ]
    },
    {
     "name": "stderr",
     "output_type": "stream",
     "text": [
      "\n"
     ]
    }
   ],
   "source": [
    "price = get_pricing('C', fields='open_price', start_date='2005-01-01', end_date='2010-01-01')\n",
    "# print(price)\n",
    "## Your code goes here\n",
    "print(\"Media geométrica del conjunto: \", stats.gmean(price['Open']))"
   ]
  },
  {
   "cell_type": "code",
   "execution_count": 7,
   "metadata": {},
   "outputs": [
    {
     "name": "stdout",
     "output_type": "stream",
     "text": [
      "nan\n"
     ]
    },
    {
     "name": "stderr",
     "output_type": "stream",
     "text": [
      "c:\\Users\\macPRO\\AppData\\Local\\Programs\\Python\\Python310\\lib\\site-packages\\scipy\\stats\\_stats_py.py:210: RuntimeWarning: invalid value encountered in log\n",
      "  log_a = np.log(a)\n"
     ]
    }
   ],
   "source": [
    "rendimiento = np.array([5.6,3.5,-3.4,-2.4,7,1,0.6,-11,2.7])\n",
    "\n",
    "factores = (rendimiento / 100) + 1\n",
    "\n",
    "# Asegurarse de que todos los factores son positivos\n",
    "# (Este paso puede no ser necesario si las rentabilidades ya están bien transformadas)\n",
    "factores_positivos = factores[factores > 0]\n",
    "\n",
    "# Calcular la media geométrica de los factores\n",
    "media_geometrica_factores = stats.gmean(factores_positivos)\n",
    "\n",
    "# Convertir de vuelta a una tasa de crecimiento (restar 1 y multiplicar por 100 para convertir en porcentaje)\n",
    "rendimiento_geometrico = (media_geometrica_factores - 1) * 100\n",
    "\n",
    "print(\"Rentabilidad geométrica promedio: {:.2f}%\".format(rendimiento_geometrico))"
   ]
  },
  {
   "cell_type": "markdown",
   "metadata": {},
   "source": [
    "---"
   ]
  },
  {
   "cell_type": "markdown",
   "metadata": {},
   "source": [
    "# Exercise 5 : Harmonic mean.\n",
    "\n",
    "La media armónica es más útil cuando los valores son tasas o razones, y especialmente cuando queremos calcular el promedio de magnitudes que tienen una relación inversa entre sí. Se utiliza, por ejemplo, para promediar velocidades, ratios financieros o tasas de cambio.\n",
    "\n",
    "Imagina que un inversor compra acciones de una empresa a diferentes precios en diferentes momentos. Supón que el inversor compra:\n",
    "\n",
    "- 10 acciones a $100 cada una.\n",
    "- 20 acciones a $80 cada una.\n",
    "- 30 acciones a $60 cada una.\n",
    "\n",
    "En lugar de calcular la media aritmética del precio de compra, la media armónica es más adecuada porque los precios están en relación inversa a la cantidad de acciones compradas (es decir, cuando el precio baja, el inversor compra más acciones).\n",
    "\n",
    "El precio promedio por acción usando la media armónica es de aproximadamente $76.61. Esto es más realista que la media aritmética porque refleja el hecho de que el inversor compró más acciones cuando el precio era más bajo.\n",
    "\n",
    "## a. Harmonic Mean of random data set. \n",
    "Find the harmonic mean of the randomly generated data set `l`."
   ]
  },
  {
   "cell_type": "code",
   "execution_count": 71,
   "metadata": {},
   "outputs": [
    {
     "name": "stdout",
     "output_type": "stream",
     "text": [
      "La media armónica es de:  15.817606338909583\n"
     ]
    }
   ],
   "source": [
    "## Your code goes here\n",
    "print(\"La media armónica es de: \", stats.hmean(l)) "
   ]
  },
  {
   "cell_type": "markdown",
   "metadata": {},
   "source": [
    "## b. Harmonic Mean of stock returns.\n",
    "Find the Harmonic Mean of the financial ETF (XLF) over the last 2 years.\n",
    "\n",
    "Esto para mi no tiene mucho sentido, ya que la media armónica funciona mejor para tasas de cambio o ratios, y en ese caso lo que contiene el df son precios"
   ]
  },
  {
   "cell_type": "code",
   "execution_count": 74,
   "metadata": {
    "scrolled": true
   },
   "outputs": [
    {
     "name": "stderr",
     "output_type": "stream",
     "text": [
      "[*********************100%%**********************]  1 of 1 completed"
     ]
    },
    {
     "name": "stdout",
     "output_type": "stream",
     "text": [
      "La media armónica es de:  17.736444292083462\n"
     ]
    },
    {
     "name": "stderr",
     "output_type": "stream",
     "text": [
      "\n"
     ]
    }
   ],
   "source": [
    "precios = get_pricing('XLF', fields='open_price', start_date='2005-01-01', end_date='2010-01-01')\n",
    "\n",
    "## Your code goes here\n",
    "print(\"La media armónica es de: \", stats.hmean(precios['Close'])) "
   ]
  },
  {
   "cell_type": "markdown",
   "metadata": {},
   "source": [
    "----"
   ]
  },
  {
   "cell_type": "markdown",
   "metadata": {},
   "source": [
    "# Exercise 6 : Skewness and why it matters.\n",
    "Skewness in a probability distribution is the measure of asymmetry. Negative skew has fewer low values and a longer left tail, whereas positive skew has fewer high values and a longer right tail.\n",
    "In asset pricing, skewness is an important information, naimly in risk assessment. Knowledge that the market has a 60% chance of going down and a 40% chance of going up apears helpfull but only if we know the market is obeying a normal distrubtuion. If we are told that the market will go up 2% but down 18%, we can see how skewness would give us better information.\n",
    "\n",
    "https://images.deepai.org/glossary-terms/22fed5758fe947e0b4962896d8739d5c/skewness.jpg\n",
    "\n",
    "Skewness (o asimetría) es una medida estadística que indica la simetría o falta de simetría en la distribución de un conjunto de datos. Más específicamente, la asimetría mide hasta qué punto una distribución se desvía de una distribución simétrica (como la distribución normal, que es perfectamente simétrica).\n",
    "\n",
    "Asimetría positiva (o sesgo a la derecha):\n",
    "\n",
    "- La cola derecha de la distribución es más larga o está más extendida.\n",
    "- Los valores extremos (outliers) se encuentran en la parte derecha de la distribución.\n",
    "- La mayoría de los datos se concentran en los valores más bajos, y la cola derecha se alarga hacia valores más altos.\n",
    "\n",
    "Un ejemplo común es una distribución de ingresos, donde la mayoría de las personas tienen ingresos más bajos y hay un pequeño número de personas con ingresos muy altos (los outliers).\n",
    "\n",
    "Asimetría negativa (o sesgo a la izquierda):\n",
    "\n",
    "- La cola izquierda de la distribución es más larga o está más extendida.\n",
    "- Los valores extremos se encuentran en la parte izquierda de la distribución.\n",
    "- La mayoría de los datos se concentran en los valores más altos, y la cola izquierda se alarga hacia valores más bajos.\n",
    "\n",
    "Un ejemplo podría ser el tiempo de vida útil de productos que generalmente duran mucho tiempo, pero hay algunos que fallan prematuramente.\n",
    "\n",
    "Asimetría nula (simetría):\n",
    "\n",
    "- La distribución es simétrica, y tanto la cola derecha como la cola izquierda tienen la misma forma.\n",
    "- La distribución normal es un ejemplo típico de una distribución simétrica.\n",
    "\n",
    "Determine if the returns of SPY from 2010 to 2017 is positivly or negativly skewed. \n",
    "*Recall a data set is positivly skewed if the mode is smaller than the median, which is smaller than the mean. A data set is negativly skewed in the event of the reverse (i.e: the mean is greater than the median, which is greater than the mode)*\n"
   ]
  },
  {
   "cell_type": "code",
   "execution_count": 79,
   "metadata": {
    "scrolled": false
   },
   "outputs": [
    {
     "name": "stderr",
     "output_type": "stream",
     "text": [
      "[*********************100%%**********************]  1 of 1 completed"
     ]
    },
    {
     "name": "stdout",
     "output_type": "stream",
     "text": [
      "The returns are positivly skewed.\n",
      "Skweness:  [-0.41003282 -0.35547655 -0.82376177 -0.3608963  -0.37354476  1.45918698]\n"
     ]
    },
    {
     "name": "stderr",
     "output_type": "stream",
     "text": [
      "\n"
     ]
    }
   ],
   "source": [
    "price = get_pricing('SPY', fields='volume', start_date='2010-01-01', end_date='2017-01-01')\n",
    "returns = price.pct_change()[1:]\n",
    "\n",
    "# Calculate Mean, Median and Mode. \n",
    "mean = np.mean(returns)\n",
    "median = np.median(returns)\n",
    "mode = stats.mode(returns)[0][0]\n",
    "\n",
    "# Setting parameters and print skewness outcome. \n",
    "if mode < median < mean:\n",
    "    print('The returns are positivly skewed.')\n",
    "if mean<median<mode: \n",
    "    print('The returns are negativly skewed.')\n",
    "if mean == median == mode:\n",
    "    print('There is no Skewness: the returns are symetricaly distributed')\n",
    "\n",
    "## Your code goes here\n",
    "print(\"Skweness: \", stats.skew(returns))"
   ]
  },
  {
   "cell_type": "markdown",
   "metadata": {},
   "source": [
    "We can clearly see positive skewing from the histogram of the returns. We see fewer higher values and a longer right tail.\n",
    "Plot the histograms of the returns now."
   ]
  },
  {
   "cell_type": "code",
   "execution_count": 81,
   "metadata": {
    "collapsed": true
   },
   "outputs": [
    {
     "data": {
      "text/plain": [
       "Text(0.5, 1.0, 'Histogram of Returns')"
      ]
     },
     "execution_count": 81,
     "metadata": {},
     "output_type": "execute_result"
    },
    {
     "data": {
      "image/png": "[encoded data removed]",
      "text/plain": [
       "<Figure size 640x480 with 1 Axes>"
      ]
     },
     "metadata": {},
     "output_type": "display_data"
    }
   ],
   "source": [
    "## Your code here\n",
    "import matplotlib.pyplot as plt\n",
    "plt.hist(returns, bins = 50)\n",
    "plt.xlabel('Returns')\n",
    "plt.ylabel('Frequency')\n",
    "plt.title('Histogram of Returns')"
   ]
  },
  {
   "cell_type": "markdown",
   "metadata": {},
   "source": [
    "---\n",
    "\n",
    "Congratulations on completing the Means exercises!\n",
    "\n",
    "As you learn more about writing trading algorithms and the Quantopian platform, be sure to check out the daily [Quantopian Contest](https://www.quantopian.com/contest), in which you can compete for a cash prize every day.\n",
    "\n",
    "Start by going through the [Writing a Contest Algorithm](https://www.quantopian.com/tutorials/contest) tutorial."
   ]
  },
  {
   "cell_type": "markdown",
   "metadata": {},
   "source": [
    "*This presentation is for informational purposes only and does not constitute an offer to sell, a solicitation to buy, or a recommendation for any security; nor does it constitute an offer to provide investment advisory or other services by Quantopian, Inc. (\"Quantopian\"). Nothing contained herein constitutes investment advice or offers any opinion with respect to the suitability of any security, and any views expressed herein should not be taken as advice to buy, sell, or hold any security or as an endorsement of any security or company.  In preparing the information contained herein, Quantopian, Inc. has not taken into account the investment needs, objectives, and financial circumstances of any particular investor. Any views expressed and data illustrated herein were prepared based upon information, believed to be reliable, available to Quantopian, Inc. at the time of publication. Quantopian makes no guarantees as to their accuracy or completeness. All information is subject to change and may quickly become unreliable for various reasons, including changes in market conditions or economic circumstances.*"
   ]
  }
 ],
 "metadata": {
  "kernelspec": {
   "display_name": "Python 3",
   "language": "python",
   "name": "python3"
  },
  "language_info": {
   "codemirror_mode": {
    "name": "ipython",
    "version": 3
   },
   "file_extension": ".py",
   "mimetype": "text/x-python",
   "name": "python",
   "nbconvert_exporter": "python",
   "pygments_lexer": "ipython3",
   "version": "3.10.9"
  }
 },
 "nbformat": 4,
 "nbformat_minor": 2
}
