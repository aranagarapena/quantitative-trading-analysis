{
 "cells": [
  {
   "cell_type": "code",
   "execution_count": 10,
   "metadata": {},
   "outputs": [],
   "source": [
    "import numpy as np\n",
    "import pandas as pd\n",
    "import pandas_ta as ta\n",
    "import sklearn\n",
    "import matplotlib\n",
    "import matplotlib.pyplot as plt\n",
    "import sqlalchemy\n",
    "from IPython.display import clear_output\n",
    "from datetime import datetime, timedelta\n",
    "import time\n",
    "from ib_insync import *\n",
    "\n",
    "util.startLoop() # inicia un loop para mantener el notebook actualizado"
   ]
  },
  {
   "cell_type": "code",
   "execution_count": null,
   "metadata": {},
   "outputs": [],
   "source": [
    "# Crea un objeto IB\n",
    "ib = IB()\n",
    "ib.connect('127.0.0.1', 7497, clientId = 6)"
   ]
  }
 ],
 "metadata": {
  "kernelspec": {
   "display_name": "Python (venv-quant)",
   "language": "python",
   "name": "venv-quant"
  },
  "language_info": {
   "codemirror_mode": {
    "name": "ipython",
    "version": 3
   },
   "file_extension": ".py",
   "mimetype": "text/x-python",
   "name": "python",
   "nbconvert_exporter": "python",
   "pygments_lexer": "ipython3",
   "version": "3.12.3"
  }
 },
 "nbformat": 4,
 "nbformat_minor": 2
}
