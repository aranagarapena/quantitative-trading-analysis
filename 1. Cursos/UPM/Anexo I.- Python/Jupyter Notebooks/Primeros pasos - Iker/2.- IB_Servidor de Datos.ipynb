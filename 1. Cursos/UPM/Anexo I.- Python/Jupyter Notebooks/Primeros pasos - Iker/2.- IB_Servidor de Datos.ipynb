{
 "cells": [
  {
   "cell_type": "code",
   "execution_count": 1,
   "metadata": {},
   "outputs": [],
   "source": [
    "import numpy as np\n",
    "import pandas as pd\n",
    "import pandas_ta as ta\n",
    "import sklearn\n",
    "import matplotlib\n",
    "import matplotlib.pyplot as plt\n",
    "import sqlalchemy\n",
    "from IPython.display import clear_output\n",
    "from datetime import datetime, timedelta\n",
    "import time\n",
    "from ib_insync import *\n",
    "\n",
    "util.startLoop() # inicia un loop para mantener el notebook actualizado"
   ]
  },
  {
   "cell_type": "code",
   "execution_count": 11,
   "metadata": {},
   "outputs": [
    {
     "data": {
      "text/plain": [
       "<IB connected to 127.0.0.1:7497 clientId=6>"
      ]
     },
     "execution_count": 11,
     "metadata": {},
     "output_type": "execute_result"
    }
   ],
   "source": [
    "# Crea un objeto IB\n",
    "ib = IB()\n",
    "ib.connect('127.0.0.1', 7497, clientId = 6)"
   ]
  }
 ],
 "metadata": {
  "kernelspec": {
   "display_name": "venv-quant",
   "language": "python",
   "name": "python3"
  },
  "language_info": {
   "codemirror_mode": {
    "name": "ipython",
    "version": 3
   },
   "file_extension": ".py",
   "mimetype": "text/x-python",
   "name": "python",
   "nbconvert_exporter": "python",
   "pygments_lexer": "ipython3",
   "version": "3.12.6"
  }
 },
 "nbformat": 4,
 "nbformat_minor": 2
}
