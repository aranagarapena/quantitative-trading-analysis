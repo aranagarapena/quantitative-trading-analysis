{
 "cells": [
  {
   "cell_type": "markdown",
   "id": "172ed309",
   "metadata": {},
   "source": [
    "# Cliente-Automatización del Sistema\n",
    "\n",
    "Autor: David U. Ordiz.\n",
    "\n",
    "**Descripción del Notebook:**\n",
    "\n",
    "En el anterior notebook hemos visto cómo crear un servidor de datos de ticks y cómo almacenar dicha información en una base de datos local constantemente actualizada. En este notebook vamos a ver cómo acceder a estos datos, cómo procesarlos para generar señales de compra y venta y cómo enrutar órdenes a la API de IB.\n",
    "\n",
    "*Importante:* El <u>2-Notebook IB-Servidor de Datos de Ticks</u> se debe estar ejecutando y la TWS abierta.\n",
    "\n",
    "<u>Reglas de la estrategia:</u>\n",
    "\n",
    "* <u>Abre largos:</u> Close[0] > MMS(5)[0]\n",
    "* <u>Cierra largos:</u> Close[0] < MMS(5)[0]\n",
    "\n",
    "**Puntos que veremos en este Notebook:**\n",
    "\n",
    "1. Importamos las librerías necesarias.\n",
    "2. Cómo conectarmos a nuestra base de datos SQL, y obtener la última actualización de datos.\n",
    "3. Cómo crear un bucle que nos permita obtener datos actualizados de la base de datos.\n",
    "4. Cómo enrutar ordenes de compra/venta a través de la API de IB.\n",
    "5. Creamos un gráfico interactivo usando la librería Plotly. Permite ver la evolución del precio de cierre respecto a la MMS (5).\n",
    "6. Juntando todas las piezas en un único bloque de código: \n",
    "        6.1 Obtenemos datos de la base de datos en vivo.\n",
    "        6.2 Calculamos la MMS y calculamos la posición de la estrategia.\n",
    "        6.3 Asignamos valores a los plots del gráfico de Plotly.\n",
    "        6.4 Procesamos las señales de compra y venta y ejecutamos las órdenes a través de la API de IB.\n",
    "        6.5 Imprimos en pantalla la posición actual de la estrategia y las últimas columnas del DataFrame utilizado."
   ]
  },
  {
   "cell_type": "markdown",
   "id": "8910ae07",
   "metadata": {},
   "source": [
    "####  1. Importamos las librerías necesarias"
   ]
  },
  {
   "cell_type": "code",
   "execution_count": null,
   "id": "1404a4b4",
   "metadata": {},
   "outputs": [
    {
     "name": "stdout",
     "output_type": "stream",
     "text": [
      "Librerías importadas correctamente\n"
     ]
    }
   ],
   "source": [
    "import sqlalchemy\n",
    "import pandas as pd\n",
    "import numpy as np\n",
    "import plotly \n",
    "import time\n",
    "from IPython.display import clear_output\n",
    "from datetime import datetime\n",
    "from ib_insync import *\n",
    "# Inicia un loop para mantener el notebook continuamente actualizado. \n",
    "util.startLoop()\n",
    "print(\"Librerías importadas correctamente\")"
   ]
  },
  {
   "cell_type": "markdown",
   "id": "6b3518e0",
   "metadata": {},
   "source": [
    "#### 2. Nos conectamos a nuestra base de datos SQL, y obtenemos la última actualización de datos."
   ]
  },
  {
   "cell_type": "code",
   "execution_count": 22,
   "id": "dec9bc63",
   "metadata": {},
   "outputs": [
    {
     "name": "stdout",
     "output_type": "stream",
     "text": [
      "                            LastPrice\n",
      "Time                                 \n",
      "2024-11-22 12:21:41.208871   1.042145\n",
      "2024-11-22 12:21:41.408940   1.042120\n",
      "2024-11-22 12:21:47.516860   1.042095\n",
      "2024-11-22 12:21:47.777937   1.042090\n",
      "2024-11-22 12:21:51.202035   1.042085\n"
     ]
    }
   ],
   "source": [
    "# Crea el motor para la base de datos.\n",
    "engine = sqlalchemy.create_engine('sqlite:///BaseDeDatosIB.db')\n",
    "# Creamos un dataframe y a través de la función read_sql() obtenemos los \n",
    "# datos de la tabla EURUSD. Esto nos da una foto fija (Snapshoot) con \n",
    "# la última actualización de los datos de la tabla.\n",
    "df = pd.read_sql('EURUSD', engine, index_col='Time')\n",
    "print(df.tail())"
   ]
  },
  {
   "cell_type": "markdown",
   "id": "d96bb235",
   "metadata": {},
   "source": [
    "#### 3. Cómo crear un loop que nos permita obtener datos actualizados de la base de datos."
   ]
  },
  {
   "cell_type": "code",
   "execution_count": 23,
   "id": "2913cb4c",
   "metadata": {},
   "outputs": [
    {
     "ename": "KeyboardInterrupt",
     "evalue": "",
     "output_type": "error",
     "traceback": [
      "\u001b[1;31m---------------------------------------------------------------------------\u001b[0m",
      "\u001b[1;31mKeyboardInterrupt\u001b[0m                         Traceback (most recent call last)",
      "Cell \u001b[1;32mIn[23], line 15\u001b[0m\n\u001b[0;32m     12\u001b[0m df\u001b[38;5;241m.\u001b[39mindex \u001b[38;5;241m=\u001b[39m pd\u001b[38;5;241m.\u001b[39mto_datetime(df\u001b[38;5;241m.\u001b[39mindex)\n\u001b[0;32m     14\u001b[0m \u001b[38;5;66;03m# Convierte la serie de ticks en una serie OHLC en time frame de 5 segundos.\u001b[39;00m\n\u001b[1;32m---> 15\u001b[0m df \u001b[38;5;241m=\u001b[39m \u001b[43mdf\u001b[49m\u001b[43m[\u001b[49m\u001b[38;5;124;43m'\u001b[39;49m\u001b[38;5;124;43mLastPrice\u001b[39;49m\u001b[38;5;124;43m'\u001b[39;49m\u001b[43m]\u001b[49m\u001b[38;5;241;43m.\u001b[39;49m\u001b[43mresample\u001b[49m\u001b[43m(\u001b[49m\u001b[38;5;124;43m'\u001b[39;49m\u001b[38;5;124;43m5s\u001b[39;49m\u001b[38;5;124;43m'\u001b[39;49m\u001b[43m)\u001b[49m\u001b[38;5;241;43m.\u001b[39;49m\u001b[43mohlc\u001b[49m\u001b[43m(\u001b[49m\u001b[43m)\u001b[49m\n\u001b[0;32m     17\u001b[0m \u001b[38;5;66;03m# Elimina las filas que contienen valores nulos.\u001b[39;00m\n\u001b[0;32m     18\u001b[0m df\u001b[38;5;241m.\u001b[39mdropna(inplace\u001b[38;5;241m=\u001b[39m\u001b[38;5;28;01mTrue\u001b[39;00m )\n",
      "File \u001b[1;32md:\\GIT\\python-labs\\venv-quant\\Lib\\site-packages\\pandas\\core\\resample.py:1527\u001b[0m, in \u001b[0;36mResampler.ohlc\u001b[1;34m(self, *args, **kwargs)\u001b[0m\n\u001b[0;32m   1524\u001b[0m         obj \u001b[38;5;241m=\u001b[39m obj\u001b[38;5;241m.\u001b[39mreindex(mi, axis\u001b[38;5;241m=\u001b[39m\u001b[38;5;241m1\u001b[39m)\n\u001b[0;32m   1525\u001b[0m     \u001b[38;5;28;01mreturn\u001b[39;00m obj\n\u001b[1;32m-> 1527\u001b[0m \u001b[38;5;28;01mreturn\u001b[39;00m \u001b[38;5;28;43mself\u001b[39;49m\u001b[38;5;241;43m.\u001b[39;49m\u001b[43m_downsample\u001b[49m\u001b[43m(\u001b[49m\u001b[38;5;124;43m\"\u001b[39;49m\u001b[38;5;124;43mohlc\u001b[39;49m\u001b[38;5;124;43m\"\u001b[39;49m\u001b[43m)\u001b[49m\n",
      "File \u001b[1;32md:\\GIT\\python-labs\\venv-quant\\Lib\\site-packages\\pandas\\core\\resample.py:1772\u001b[0m, in \u001b[0;36mDatetimeIndexResampler._downsample\u001b[1;34m(self, how, **kwargs)\u001b[0m\n\u001b[0;32m   1766\u001b[0m     \u001b[38;5;28;01mreturn\u001b[39;00m obj\n\u001b[0;32m   1768\u001b[0m \u001b[38;5;66;03m# do we have a regular frequency\u001b[39;00m\n\u001b[0;32m   1769\u001b[0m \n\u001b[0;32m   1770\u001b[0m \u001b[38;5;66;03m# error: Item \"None\" of \"Optional[Any]\" has no attribute \"binlabels\"\u001b[39;00m\n\u001b[0;32m   1771\u001b[0m \u001b[38;5;28;01mif\u001b[39;00m (\n\u001b[1;32m-> 1772\u001b[0m     (ax\u001b[38;5;241m.\u001b[39mfreq \u001b[38;5;129;01mis\u001b[39;00m \u001b[38;5;129;01mnot\u001b[39;00m \u001b[38;5;28;01mNone\u001b[39;00m \u001b[38;5;129;01mor\u001b[39;00m \u001b[43max\u001b[49m\u001b[38;5;241;43m.\u001b[39;49m\u001b[43minferred_freq\u001b[49m \u001b[38;5;129;01mis\u001b[39;00m \u001b[38;5;129;01mnot\u001b[39;00m \u001b[38;5;28;01mNone\u001b[39;00m)\n\u001b[0;32m   1773\u001b[0m     \u001b[38;5;129;01mand\u001b[39;00m \u001b[38;5;28mlen\u001b[39m(\u001b[38;5;28mself\u001b[39m\u001b[38;5;241m.\u001b[39m_grouper\u001b[38;5;241m.\u001b[39mbinlabels) \u001b[38;5;241m>\u001b[39m \u001b[38;5;28mlen\u001b[39m(ax)\n\u001b[0;32m   1774\u001b[0m     \u001b[38;5;129;01mand\u001b[39;00m how \u001b[38;5;129;01mis\u001b[39;00m \u001b[38;5;28;01mNone\u001b[39;00m\n\u001b[0;32m   1775\u001b[0m ):\n\u001b[0;32m   1776\u001b[0m     \u001b[38;5;66;03m# let's do an asfreq\u001b[39;00m\n\u001b[0;32m   1777\u001b[0m     \u001b[38;5;28;01mreturn\u001b[39;00m \u001b[38;5;28mself\u001b[39m\u001b[38;5;241m.\u001b[39masfreq()\n\u001b[0;32m   1779\u001b[0m \u001b[38;5;66;03m# we are downsampling\u001b[39;00m\n\u001b[0;32m   1780\u001b[0m \u001b[38;5;66;03m# we want to call the actual grouper method here\u001b[39;00m\n",
      "File \u001b[1;32mproperties.pyx:36\u001b[0m, in \u001b[0;36mpandas._libs.properties.CachedProperty.__get__\u001b[1;34m()\u001b[0m\n",
      "File \u001b[1;32md:\\GIT\\python-labs\\venv-quant\\Lib\\site-packages\\pandas\\core\\indexes\\datetimelike.py:526\u001b[0m, in \u001b[0;36mDatetimeTimedeltaMixin.inferred_freq\u001b[1;34m(self)\u001b[0m\n\u001b[0;32m    523\u001b[0m \u001b[38;5;129m@cache_readonly\u001b[39m\n\u001b[0;32m    524\u001b[0m \u001b[38;5;129m@doc\u001b[39m(DatetimeLikeArrayMixin\u001b[38;5;241m.\u001b[39minferred_freq)\n\u001b[0;32m    525\u001b[0m \u001b[38;5;28;01mdef\u001b[39;00m \u001b[38;5;21minferred_freq\u001b[39m(\u001b[38;5;28mself\u001b[39m) \u001b[38;5;241m-\u001b[39m\u001b[38;5;241m>\u001b[39m \u001b[38;5;28mstr\u001b[39m \u001b[38;5;241m|\u001b[39m \u001b[38;5;28;01mNone\u001b[39;00m:\n\u001b[1;32m--> 526\u001b[0m     \u001b[38;5;28;01mreturn\u001b[39;00m \u001b[38;5;28;43mself\u001b[39;49m\u001b[38;5;241;43m.\u001b[39;49m\u001b[43m_data\u001b[49m\u001b[38;5;241;43m.\u001b[39;49m\u001b[43minferred_freq\u001b[49m\n",
      "File \u001b[1;32md:\\GIT\\python-labs\\venv-quant\\Lib\\site-packages\\pandas\\core\\arrays\\datetimelike.py:937\u001b[0m, in \u001b[0;36mDatetimeLikeArrayMixin.inferred_freq\u001b[1;34m(self)\u001b[0m\n\u001b[0;32m    935\u001b[0m     \u001b[38;5;28;01mreturn\u001b[39;00m \u001b[38;5;28;01mNone\u001b[39;00m\n\u001b[0;32m    936\u001b[0m \u001b[38;5;28;01mtry\u001b[39;00m:\n\u001b[1;32m--> 937\u001b[0m     \u001b[38;5;28;01mreturn\u001b[39;00m \u001b[43mfrequencies\u001b[49m\u001b[38;5;241;43m.\u001b[39;49m\u001b[43minfer_freq\u001b[49m\u001b[43m(\u001b[49m\u001b[38;5;28;43mself\u001b[39;49m\u001b[43m)\u001b[49m\n\u001b[0;32m    938\u001b[0m \u001b[38;5;28;01mexcept\u001b[39;00m \u001b[38;5;167;01mValueError\u001b[39;00m:\n\u001b[0;32m    939\u001b[0m     \u001b[38;5;28;01mreturn\u001b[39;00m \u001b[38;5;28;01mNone\u001b[39;00m\n",
      "File \u001b[1;32md:\\GIT\\python-labs\\venv-quant\\Lib\\site-packages\\pandas\\tseries\\frequencies.py:156\u001b[0m, in \u001b[0;36minfer_freq\u001b[1;34m(index)\u001b[0m\n\u001b[0;32m    153\u001b[0m     index \u001b[38;5;241m=\u001b[39m DatetimeIndex(index)\n\u001b[0;32m    155\u001b[0m inferer \u001b[38;5;241m=\u001b[39m _FrequencyInferer(index)\n\u001b[1;32m--> 156\u001b[0m \u001b[38;5;28;01mreturn\u001b[39;00m \u001b[43minferer\u001b[49m\u001b[38;5;241;43m.\u001b[39;49m\u001b[43mget_freq\u001b[49m\u001b[43m(\u001b[49m\u001b[43m)\u001b[49m\n",
      "File \u001b[1;32md:\\GIT\\python-labs\\venv-quant\\Lib\\site-packages\\pandas\\tseries\\frequencies.py:225\u001b[0m, in \u001b[0;36m_FrequencyInferer.get_freq\u001b[1;34m(self)\u001b[0m\n\u001b[0;32m    222\u001b[0m \u001b[38;5;28;01mif\u001b[39;00m \u001b[38;5;129;01mnot\u001b[39;00m \u001b[38;5;28mself\u001b[39m\u001b[38;5;241m.\u001b[39mis_monotonic \u001b[38;5;129;01mor\u001b[39;00m \u001b[38;5;129;01mnot\u001b[39;00m \u001b[38;5;28mself\u001b[39m\u001b[38;5;241m.\u001b[39mindex\u001b[38;5;241m.\u001b[39m_is_unique:\n\u001b[0;32m    223\u001b[0m     \u001b[38;5;28;01mreturn\u001b[39;00m \u001b[38;5;28;01mNone\u001b[39;00m\n\u001b[1;32m--> 225\u001b[0m delta \u001b[38;5;241m=\u001b[39m \u001b[38;5;28;43mself\u001b[39;49m\u001b[38;5;241;43m.\u001b[39;49m\u001b[43mdeltas\u001b[49m[\u001b[38;5;241m0\u001b[39m]\n\u001b[0;32m    226\u001b[0m ppd \u001b[38;5;241m=\u001b[39m periods_per_day(\u001b[38;5;28mself\u001b[39m\u001b[38;5;241m.\u001b[39m_creso)\n\u001b[0;32m    227\u001b[0m \u001b[38;5;28;01mif\u001b[39;00m delta \u001b[38;5;129;01mand\u001b[39;00m _is_multiple(delta, ppd):\n",
      "File \u001b[1;32mproperties.pyx:36\u001b[0m, in \u001b[0;36mpandas._libs.properties.CachedProperty.__get__\u001b[1;34m()\u001b[0m\n",
      "File \u001b[1;32md:\\GIT\\python-labs\\venv-quant\\Lib\\site-packages\\pandas\\tseries\\frequencies.py:197\u001b[0m, in \u001b[0;36m_FrequencyInferer.deltas\u001b[1;34m(self)\u001b[0m\n\u001b[0;32m    195\u001b[0m \u001b[38;5;129m@cache_readonly\u001b[39m\n\u001b[0;32m    196\u001b[0m \u001b[38;5;28;01mdef\u001b[39;00m \u001b[38;5;21mdeltas\u001b[39m(\u001b[38;5;28mself\u001b[39m) \u001b[38;5;241m-\u001b[39m\u001b[38;5;241m>\u001b[39m npt\u001b[38;5;241m.\u001b[39mNDArray[np\u001b[38;5;241m.\u001b[39mint64]:\n\u001b[1;32m--> 197\u001b[0m     \u001b[38;5;28;01mreturn\u001b[39;00m \u001b[43munique_deltas\u001b[49m\u001b[43m(\u001b[49m\u001b[38;5;28;43mself\u001b[39;49m\u001b[38;5;241;43m.\u001b[39;49m\u001b[43mi8values\u001b[49m\u001b[43m)\u001b[49m\n",
      "\u001b[1;31mKeyboardInterrupt\u001b[0m: "
     ]
    }
   ],
   "source": [
    "while True:    \n",
    "    clear_output(wait=True)\n",
    "    \n",
    "    # Crea una variable para almacenar nuestra Query.\n",
    "    # Esta 'Query' obtiene los últimos 100 ticks de nuestra base de datos.\n",
    "    Query = 'SELECT * FROM EURUSD ORDER BY Time DESC LIMIT 100'\n",
    "    \n",
    "     # Solicitamos los datos a la base de datos.\n",
    "    df = pd.read_sql(Query, engine, index_col='Time')\n",
    "    \n",
    "    # Convierte el índice en formato datetime (necesario para df.resample())\n",
    "    df.index = pd.to_datetime(df.index)\n",
    "    \n",
    "    # Convierte la serie de ticks en una serie OHLC en time frame de 5 segundos.\n",
    "    df = df['LastPrice'].resample('5s').ohlc()\n",
    "    \n",
    "    # Elimina las filas que contienen valores nulos.\n",
    "    df.dropna(inplace=True )\n",
    "    \n",
    "    # Muestra el dataframe actualizado\n",
    "    print(df.tail(10))\n",
    "    now = datetime.now()\n",
    "    current_time = now.strftime(\"%H:%M:%S.%f\")\n",
    "    print(\"Ultima actualización: \", current_time)"
   ]
  },
  {
   "cell_type": "markdown",
   "id": "e7b12c34",
   "metadata": {},
   "source": [
    "#### 4. Cómo enrutar órdenes de compra y venta a través de la API de IB."
   ]
  },
  {
   "cell_type": "code",
   "execution_count": 24,
   "id": "eca7405b",
   "metadata": {},
   "outputs": [
    {
     "data": {
      "text/plain": [
       "<IB connected to 127.0.0.1:7497 clientId=15>"
      ]
     },
     "execution_count": 24,
     "metadata": {},
     "output_type": "execute_result"
    }
   ],
   "source": [
    "# Crea un objeto IB\n",
    "ib = IB()\n",
    "# Nos conectamos a IB\n",
    "ib.connect('127.0.0.1', 7497, clientId = 15)"
   ]
  },
  {
   "cell_type": "code",
   "execution_count": 25,
   "id": "727c02c5",
   "metadata": {},
   "outputs": [],
   "source": [
    "# Crea y envía una orden de compra. \n",
    "order = MarketOrder('BUY', 500)\n",
    "Contract = Forex('EURUSD')\n",
    "trade = ib.placeOrder(Contract, order)"
   ]
  },
  {
   "cell_type": "code",
   "execution_count": 26,
   "id": "b81f274d",
   "metadata": {},
   "outputs": [],
   "source": [
    "# Crea y envía una orden de venta. \n",
    "order = MarketOrder('SELL', 500)\n",
    "Contract = Forex('EURUSD')\n",
    "trade = ib.placeOrder(Contract, order)"
   ]
  },
  {
   "cell_type": "markdown",
   "id": "d4a49372",
   "metadata": {},
   "source": [
    "#### 5. Creamos un gráfico interactivo usando la librería Plotly."
   ]
  },
  {
   "cell_type": "code",
   "execution_count": null,
   "id": "83e30439",
   "metadata": {
    "scrolled": true
   },
   "outputs": [
    {
     "data": {
      "application/vnd.jupyter.widget-view+json": {
       "model_id": "81949a7107c742e7b64c32779983f6c6",
       "version_major": 2,
       "version_minor": 0
      },
      "text/plain": [
       "FigureWidget({\n",
       "    'data': [{'line': {'color': 'black', 'width': 1},\n",
       "              'name': 'Close',\n",
       "              'type': 'scatter',\n",
       "              'uid': '2acaaa25-35c7-4ddb-b0b2-ac177b614a4d'},\n",
       "             {'line': {'width': 1}, 'name': 'MMS(5)', 'type': 'scatter', 'uid': 'c22eee43-7bce-413d-861f-2b1930767bc0'}],\n",
       "    'layout': {'template': '...',\n",
       "               'title': {'text': 'EURUSD SMA Strategy'},\n",
       "               'xaxis': {'title': {'text': 'Fecha'}},\n",
       "               'yaxis': {'title': {'text': 'Escala de Precios'}}}\n",
       "})"
      ]
     },
     "execution_count": 28,
     "metadata": {},
     "output_type": "execute_result"
    }
   ],
   "source": [
    "# Importamos Plotly.graph_objects. Esta librería permite crear una\n",
    "# figura interactiva que mostrará la evolución del precio de cierre\n",
    "# y la evolución de la media móvil. \n",
    "import plotly.graph_objects as go\n",
    "\n",
    "# Creamos la figura.\n",
    "fig = go.FigureWidget(layout_title_text=\"EURUSD SMA Strategy\")\n",
    "# A través de add_scatter añadimos los dos plots que necesitamos.\n",
    "fig.add_scatter(name = 'Close', line = dict(width = 1, color = 'black'))\n",
    "fig.add_scatter(name = 'MMS(5)', line = dict(width = 1))\n",
    "\n",
    "# Añadimos las etiquetas as los ejes Y y X.\n",
    "fig['layout']['yaxis']['title']='Escala de Precios'\n",
    "fig['layout']['xaxis']['title']='Fecha'\n",
    "fig"
   ]
  },
  {
   "cell_type": "markdown",
   "id": "368e2061",
   "metadata": {},
   "source": [
    "#### 6. Juntando todas las piezas en un único bloque de código: \n",
    "        6.1 Obtenemos datos de la base de datos en vivo.\n",
    "        6.2 Calculamos la MMS y calculamos la posición de la estrategia.\n",
    "        6.3 Asignamos valores a los plots del gráfico de Plotly.\n",
    "        6.4 Procesamos las señales de compra y venta y ejecutamos las órdenes a través de la API de IB.\n",
    "        6.5 Imprimos en pantalla la posición actual de la estrategia y las últimas columnas del DataFrame utilizado."
   ]
  },
  {
   "cell_type": "code",
   "execution_count": null,
   "id": "33860c7e",
   "metadata": {},
   "outputs": [
    {
     "name": "stdout",
     "output_type": "stream",
     "text": [
      "                        close       MMS  Posicion\n",
      "Time                                             \n",
      "2023-05-31 18:17:15  1.064325  1.064402         0\n",
      "2023-05-31 18:17:20  1.064225  1.064364         0\n",
      "2023-05-31 18:17:25  1.064255  1.064336         0\n",
      "2023-05-31 18:17:30  1.064200  1.064284         0\n",
      "2023-05-31 18:17:35  1.064180  1.064237         0\n",
      "La posición de la estrategia es:  Flat\n",
      "Ultima actualización:  18:17:36.677597\n"
     ]
    }
   ],
   "source": [
    "# Esta variable almacenará la posición de la estrategia.\n",
    "# La iniciamos con el valor 'Flat'\n",
    "PosicionStrategia = 'Flat'\n",
    "\n",
    "import datetime\n",
    "# La variable LastTimeBar va a almacenar lo hora o timestamp\n",
    "# de la última barra de nuestro DataFrame. La utilizaremos para \n",
    "# identificar el primer tick de una nueva barra. Este modelo \n",
    "# ejecuta las señales de compra y venta cuando ocurre el primer \n",
    "# tick de una barra. \n",
    "# Iniciamos la variable con un valor alto.\n",
    "LastTimeBar = datetime.datetime(2150, 5, 17)\n",
    "\n",
    "# El bucle while se ejecuta de forma contínua. \n",
    "while True: \n",
    "    # Limpia el último resultado mostrado.\n",
    "    clear_output(wait=True)\n",
    "    \n",
    "    # 1.OBTENEMOS DATOS DE LA BASE DE DATOS \n",
    "    # ======================================================================\n",
    "    \n",
    "    # Esta 'Query' obtiene los últimos 300 ticks de nuestra base de datos.\n",
    "    Query = 'SELECT * FROM EURUSD ORDER BY Time DESC LIMIT 300'    \n",
    "    \n",
    "    # Solicitamos los datos a la base de datos.\n",
    "    df = pd.read_sql(Query, engine, index_col='Time')   \n",
    "    \n",
    "    # Convierte el índice en formato datetime (necesario para df.resample())\n",
    "    df.index = pd.to_datetime(df.index)\n",
    "    \n",
    "    # Convierte la serie de ticks en una serie OHLC en time frame de 5s.\n",
    "    df = df['LastPrice'].resample('5s').ohlc()\n",
    "    \n",
    "    # Elimina las filas que contienen valores nulos.\n",
    "    df.dropna(inplace = True )\n",
    "    \n",
    "    # 2.CÁLCULO DE LA MMS Y POSICIÓN DE LA ESTRATEGIA.\n",
    "    # ======================================================================\n",
    "    \n",
    "    # Crea la media móvil simple (MMS)\n",
    "    df['MMS'] = df.close.rolling(5).mean()\n",
    "    # Elimina los valores nulos.\n",
    "    df.dropna(inplace=True )\n",
    "    # Crea la columa posición.\n",
    "    df['Posicion'] = np.where(df['close'] > df['MMS'], 1, 0)\n",
    "    # Limpia el dataframe.\n",
    "    df = df[['close','MMS','Posicion']]\n",
    "    \n",
    "    # 3.ASIGNACIÓN DE VALORES AL GRÁFICO.\n",
    "    # ======================================================================\n",
    "    \n",
    "    # Actualiza el gráfico cada vez que hay una pasada en el bucle\n",
    "    # Fija los valores de X e Y para los dos plots de la figura.\n",
    "    fig.data[0].x = df.index\n",
    "    fig.data[0].y = df['close']\n",
    "    fig.data[1].x = df.index\n",
    "    fig.data[1].y = df['MMS']\n",
    "    \n",
    "    # 4.PROCESAMIENTO DE SEÑALES Y EJECUCIÓN DE ÓRDENES.\n",
    "    # ======================================================================\n",
    "    \n",
    "    # Para abrir una una posición se deben satisfacer cuatro condiciones.\n",
    "    # 1) Una nueva barra se acaba de iniciar. La hora de la barra actual es \n",
    "    #    mayor que la hora de la variable LastTimeBar.\n",
    "    # 2) La posición de la estrategia en la penúltima barra es 1 (Long).\n",
    "    #    Nota: Utilizamos la penúltima barra (iloc[-2]) ya que la última \n",
    "    #    barra (iloc[-1]) representa la barra en la que se ha generado el \n",
    "    #    nuevo tick. Por lo tanto sería erróneo. Aquí queremos abrir una \n",
    "    #    posición en la apertura de la barra actual si se ha producido una \n",
    "    #    señal de compra en la barra anterior. Por ello se usa la penúltima \n",
    "    #    barra.\n",
    "    # 3) La posición en la antepenúltima barra es 0 (Flat).\n",
    "    # 4) El valor de la variable PosicionStrategia debe ser 'Flat'.\n",
    "    \n",
    "    if (df.index[-1] > LastTimeBar and df.Posicion.iloc[-2] == 1 and \n",
    "        df.Posicion.iloc[-3] == 0 and PosicionStrategia == 'Flat'):\n",
    "        \n",
    "        # Crea y envía una order de compra.\n",
    "        order = MarketOrder('BUY', 100)\n",
    "        trade = ib.placeOrder(Contract, order)\n",
    "        PosicionStrategia = 'Long' \n",
    "        \n",
    "    # Cierra posiciones largas cuando la penúltima barra es 0 y el valor\n",
    "    # de la variable PosicionStrategia es 'Long'\n",
    "    if (df.Posicion.iloc[-2] == 0 and PosicionStrategia == 'Long'):\n",
    "        # Crea y envía una order de venta.\n",
    "        order = MarketOrder('SELL', 100)\n",
    "        trade = ib.placeOrder(Contract, order)\n",
    "        PosicionStrategia = 'Flat'\n",
    "    \n",
    "    # Almacena la hora de la última barra.\n",
    "    LastTimeBar = df.index[-1]\n",
    "    \n",
    "    # 5.IMPRIME ÚLTIMAS COLUMNAS DEL DATAFRAME Y LA POSICIÓN DEL MODELO.\n",
    "    # ======================================================================\n",
    "    \n",
    "    # Muestra el dataframe actualizado\n",
    "    print(df.tail(5))\n",
    "    print('La posición de la estrategia es: ', PosicionStrategia)\n",
    "    \n",
    "    HoraActual = datetime.datetime.now()\n",
    "    HoraFormateada = HoraActual.strftime('%H:%M:%S.%f')\n",
    "    print(\"Ultima actualización: \", HoraFormateada)   "
   ]
  },
  {
   "cell_type": "code",
   "execution_count": null,
   "id": "311d4b2e",
   "metadata": {},
   "outputs": [],
   "source": []
  }
 ],
 "metadata": {
  "kernelspec": {
   "display_name": "venv-quant",
   "language": "python",
   "name": "python3"
  },
  "language_info": {
   "codemirror_mode": {
    "name": "ipython",
    "version": 3
   },
   "file_extension": ".py",
   "mimetype": "text/x-python",
   "name": "python",
   "nbconvert_exporter": "python",
   "pygments_lexer": "ipython3",
   "version": "3.12.6"
  }
 },
 "nbformat": 4,
 "nbformat_minor": 5
}
