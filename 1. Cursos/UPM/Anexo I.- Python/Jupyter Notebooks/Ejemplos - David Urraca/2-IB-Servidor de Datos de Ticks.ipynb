{
 "cells": [
  {
   "cell_type": "markdown",
   "id": "3d8a0293",
   "metadata": {},
   "source": [
    "# IB-Servidor de Datos de Ticks\n",
    "\n",
    "Autor: David U. Ordiz.\n",
    "\n",
    "**Descripción del Notebook:**\n",
    "\n",
    "En este notebook vamos a utilizar la librería ib_insync para solicitar datos de mercado a InteractiveBrokers y almacenarlos en una base de datos. La librería *ib_insync* utiliza el protocolo WebSockets para obtener datos de mercado usando un enfoque multihilo.\n",
    "\n",
    "En concreto, a en este Notebook veremos como obtener datos de tick del EURUSD (Forex), y como almacenar dichos datos en una base de datos SQL. Dicha base de datos se actualizará cada vez que recibamos un nuevo tick. En posteriores Notebooks veremos cómo acceder a estos datos para procesarlos, generar señales, y enrutar ordernes a IB en tiempo real. \n",
    "\n",
    "**Pasos realizados en este Notebook:**\n",
    "\n",
    "1. Importamos las librerías necesarias.\n",
    "2. Establecemos la conexión a la API de InteractiveBrokers.\n",
    "3. Solicitamos datos de ticks del EURUSD (Forex).\n",
    "4. Creamos el motor para nuestra base de datos SQL usando la librería sqlalchemy.\n",
    "5. Por último, almacenamos en la base de datos cada nuevo tick recibido del EURUSD."
   ]
  },
  {
   "cell_type": "markdown",
   "id": "acb4763c",
   "metadata": {},
   "source": [
    "####  1. Importamos las librerías necesarias"
   ]
  },
  {
   "cell_type": "code",
   "execution_count": 1,
   "id": "04f6d767",
   "metadata": {},
   "outputs": [],
   "source": [
    "import sqlalchemy # Librería que permite el uso y manejo de bases de datos relacionales (SQL)\n",
    "import pandas as pd\n",
    "import numpy as np\n",
    "from IPython.display import clear_output # Permite limpiar el resultado de una celda.\n",
    "from datetime import datetime, timedelta\n",
    "import time\n",
    "from ib_insync import *\n",
    "# Inicia un loop para mantener el notebook continuamente actualizado. \n",
    "util.startLoop() "
   ]
  },
  {
   "cell_type": "markdown",
   "id": "6f89b5ba",
   "metadata": {},
   "source": [
    "####  2. Establecemos la conexión con InteractiveBrokers (IB)"
   ]
  },
  {
   "cell_type": "code",
   "execution_count": 2,
   "id": "3a80be44",
   "metadata": {},
   "outputs": [
    {
     "data": {
      "text/plain": [
       "<IB connected to 127.0.0.1:7497 clientId=6>"
      ]
     },
     "execution_count": 2,
     "metadata": {},
     "output_type": "execute_result"
    }
   ],
   "source": [
    "# Crea un objeto IB\n",
    "ib = IB()\n",
    "# se conecta a IB\n",
    "ib.connect('127.0.0.1', 7497, clientId = 6)"
   ]
  },
  {
   "cell_type": "markdown",
   "id": "3158c3c9",
   "metadata": {},
   "source": [
    "#### 3. Solicitamos datos de ticks del EURUSD (Forex)."
   ]
  },
  {
   "cell_type": "code",
   "execution_count": 3,
   "id": "190bcdd2",
   "metadata": {},
   "outputs": [
    {
     "name": "stdout",
     "output_type": "stream",
     "text": [
      "Datos de mercado solicitados correctamente.\n"
     ]
    }
   ],
   "source": [
    "# La función reqMktData permite solicitar la transmisión de ticks.\n",
    "ib.reqMktData(Forex('EURUSD'), '', False, False)\n",
    "print(\"Datos de mercado solicitados correctamente.\");"
   ]
  },
  {
   "cell_type": "markdown",
   "id": "aad88c93",
   "metadata": {},
   "source": [
    "#### 4. Creamos el motor para nuestra base de datos usando la librería sqlalchemy."
   ]
  },
  {
   "cell_type": "code",
   "execution_count": 4,
   "id": "def943c6",
   "metadata": {},
   "outputs": [
    {
     "name": "stdout",
     "output_type": "stream",
     "text": [
      "El motor de la base de datos ha sido creado correctamente.\n"
     ]
    }
   ],
   "source": [
    "# La función create_engine() crea un motor para nuestra base de datos. \n",
    "# Dicho motor nos permite conectarnos y manipular la base de datos. \n",
    "# Más información: https://docs.sqlalchemy.org/en/20/core/engines.html\n",
    "engine = sqlalchemy.create_engine('sqlite:///BaseDeDatosIB.db')\n",
    "print(\"El motor de la base de datos ha sido creado correctamente.\");"
   ]
  },
  {
   "cell_type": "markdown",
   "id": "e50816ef",
   "metadata": {},
   "source": [
    "#### 5. Almacenamos en la base de datos cada nuevo tick recibido del EURUSD."
   ]
  },
  {
   "cell_type": "code",
   "execution_count": 5,
   "id": "ca102ffe",
   "metadata": {},
   "outputs": [
    {
     "name": "stdout",
     "output_type": "stream",
     "text": [
      "Último tick del EURUSD añadido a la base de datos: | 2023-05-31 18:17:34.955858 | 1.0642\n"
     ]
    }
   ],
   "source": [
    "# Esta variable contendrá el útlimo tick almacenado en la base de datos\n",
    "PrevLastPrice = 0 \n",
    "# Esta variable almacenará el tiempo del último tick añadido a la base de datos.\n",
    "# Iniciamos esta variable con el tiempo actual.\n",
    "PreviousTime = datetime.now()\n",
    "\n",
    "# La función onPendingTickers nos permite almacenar en la base de datos\n",
    "# cada nuevo tick recibido del EURUSD.\n",
    "# Esta función se ejecuta cada vez que hemos recibido un nuevo tick.\n",
    "def onPendingTickers(tickers):   \n",
    "\n",
    "    # Este bucle for sirve para revisar cada símbolo que ha recibido datos.\n",
    "    # Si solo hemos solicitado datos de un símbolo, entonces, solo revisará uno.\n",
    "    # En este caso el EURUSD.\n",
    "    for symbol in tickers:\n",
    "\n",
    "        # Variables globales\n",
    "        global PrevLastPrice\n",
    "        global PreviousTime\n",
    "\n",
    "        # Almacena el precio de mercado recibido y el tiempo actual.   \n",
    "        LastPrice = symbol.marketPrice() \n",
    "        Time = datetime.now()\n",
    "\n",
    "        # Limpia el resultado de la celda. Esto nos sirve para limpiar el último valor \n",
    "        # impreso en la celda\n",
    "        clear_output(wait=True)\n",
    "\n",
    "        # Antes de almacenar un nuevo tick en la base de datos comprobaremos 3 cosas:\n",
    "        # 1) El tiempo (Time) del tick actual debe ser mayor que el último tick almacenado\n",
    "        # en la base de datos + varios milisegundos (Por defecto 200)\n",
    "        # 2) El último tick recibido (LastPrice) debe ser distinto al último tick almacenado\n",
    "        # en la base de datos.\n",
    "        # 3) El valor del último tick recibido (LastPrice) no debe ser nulo (NaN).\n",
    "        # Si estas tres condiciones son ciertas entonces... \n",
    "        if (Time > (PreviousTime + timedelta(milliseconds = 200))\n",
    "            and LastPrice != PrevLastPrice\n",
    "            and np.isnan(LastPrice) == False):\n",
    "            \n",
    "            # Crea un nuevo dataframe con los valores de las variables\n",
    "            # actualizadas (Time y LastPrice)\n",
    "            df = pd.DataFrame({'Time': [Time], 'LastPrice': [LastPrice]})\n",
    "            df.set_index('Time', inplace=True) # Configura el índice\n",
    "\n",
    "            # Adjunta el DataFrame a la tabla EURUSD de la base de datos.\n",
    "            df.to_sql('EURUSD', engine, if_exists = 'append', index='Time')   \n",
    "\n",
    "            # Imprime los valores adjuntados a la base de datos. \n",
    "            print(\"Último tick del EURUSD añadido a la base de datos: \" \n",
    "                  \"|\", Time, \"|\", LastPrice)\n",
    "\n",
    "            # Muestra el precio y la fecha y hora del úlitmo tick alamcenado.\n",
    "            PrevLastPrice = LastPrice  \n",
    "            PreviousTime = Time\n",
    "        # Si alguna de las tres condiciones no es cierta entonces...    \n",
    "        else: \n",
    "            print(\"Último tick del EURUSD añadido a la base de datos: \"\n",
    "                  \"|\", PreviousTime, \"|\", PrevLastPrice)\n",
    "\n",
    "# Fin del método onPendingTickers().\n",
    "\n",
    "# La función pendingTickersEvent() emite el grupo de símbolos que han obtenido \n",
    "# nuevos ticks en la última actualización.\n",
    "# Aquí solo solicitamos datos de un símbolo (EURUSD). Por tanto, cada vez que\n",
    "# recibamos un tick de este símbolo, se ejecutará la función oppendingTickers()\n",
    "ib.pendingTickersEvent += onPendingTickers\n",
    "# La función run() mantiene el programa corriendo.\n",
    "ib.run()"
   ]
  },
  {
   "cell_type": "code",
   "execution_count": null,
   "id": "c38a7427",
   "metadata": {},
   "outputs": [],
   "source": []
  }
 ],
 "metadata": {
  "kernelspec": {
   "display_name": "Python 3 (ipykernel)",
   "language": "python",
   "name": "python3"
  },
  "language_info": {
   "codemirror_mode": {
    "name": "ipython",
    "version": 3
   },
   "file_extension": ".py",
   "mimetype": "text/x-python",
   "name": "python",
   "nbconvert_exporter": "python",
   "pygments_lexer": "ipython3",
   "version": "3.8.12"
  }
 },
 "nbformat": 4,
 "nbformat_minor": 5
}
