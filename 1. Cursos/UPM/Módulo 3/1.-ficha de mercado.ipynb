{
 "cells": [
  {
   "cell_type": "markdown",
   "metadata": {},
   "source": [
    "1. Importar datos"
   ]
  },
  {
   "cell_type": "code",
   "execution_count": 8,
   "metadata": {},
   "outputs": [],
   "source": [
    "# 1.1 Bibliotecas\n",
    "\n",
    "import numpy as np\n",
    "import pandas as pd\n",
    "import pandas_ta as ta\n",
    "import sklearn\n",
    "import matplotlib\n",
    "import yfinance as yf\n",
    "import matplotlib.pyplot as plt\n",
    "import plotly.graph_objects as go\n"
   ]
  },
  {
   "cell_type": "code",
   "execution_count": 9,
   "metadata": {},
   "outputs": [
    {
     "name": "stderr",
     "output_type": "stream",
     "text": [
      "[*********************100%***********************]  1 of 1 completed\n"
     ]
    }
   ],
   "source": [
    "# 1.2 Importación de Datos\n",
    "btc_data = yf.download('BTC-USD', start='2015-01-01', interval='1d')"
   ]
  },
  {
   "cell_type": "markdown",
   "metadata": {},
   "source": [
    "2. Uso de indicadores para detección de subperiodos"
   ]
  },
  {
   "cell_type": "code",
   "execution_count": 10,
   "metadata": {},
   "outputs": [],
   "source": [
    "# 2.1 Calculo de medias moviles SMA y EMA para detección de tendencias generales \n",
    "\n",
    "# Calcular las medias móviles SMA de 20, 50, 100, 200 días\n",
    "btc_data['SMA_20'] = btc_data['Close'].rolling(window=20).mean()\n",
    "btc_data['SMA_50'] = btc_data['Close'].rolling(window=50).mean()\n",
    "btc_data['SMA_100'] = btc_data['Close'].rolling(window=100).mean()\n",
    "btc_data['SMA_200'] = btc_data['Close'].rolling(window=200).mean()\n",
    "\n",
    "# Calcular las medias móviles EMA de 20, 50, 100, 200 días\n",
    "btc_data['EMA_20'] = btc_data['Close'].ewm(span=20, adjust=False).mean()\n",
    "btc_data['EMA_50'] = btc_data['Close'].ewm(span=50, adjust=False).mean()\n",
    "btc_data['EMA_100'] = btc_data['Close'].ewm(span=100, adjust=False).mean()\n",
    "btc_data['EMA_200'] = btc_data['Close'].ewm(span=200, adjust=False).mean()\n",
    "\n"
   ]
  },
  {
   "cell_type": "code",
   "execution_count": null,
   "metadata": {},
   "outputs": [],
   "source": [
    "# Crear la figura\n",
    "fig = go.Figure()\n",
    "\n",
    "# Agregar precios de cierre\n",
    "fig.add_trace(go.Scatter(\n",
    "    x=btc_data.index, \n",
    "    y=btc_data['Close'], \n",
    "    mode='lines',\n",
    "    name='Precio de Cierre',\n",
    "    line=dict(color='black', width=1),\n",
    "    hovertemplate='Precio: %{y:.2f}<br>Fecha: %{x}<extra></extra>'\n",
    "))\n",
    "\n",
    "# Agregar medias móviles SMA\n",
    "fig.add_trace(go.Scatter(\n",
    "    x=btc_data.index, \n",
    "    y=btc_data['SMA_20'], \n",
    "    mode='lines',\n",
    "    name='SMA 20',\n",
    "    line=dict(color='blue', width=1, dash='dash')\n",
    "))\n",
    "fig.add_trace(go.Scatter(\n",
    "    x=btc_data.index, \n",
    "    y=btc_data['SMA_50'], \n",
    "    mode='lines',\n",
    "    name='SMA 50',\n",
    "    line=dict(color='orange', width=1, dash='dash')\n",
    "))\n",
    "fig.add_trace(go.Scatter(\n",
    "    x=btc_data.index, \n",
    "    y=btc_data['SMA_100'], \n",
    "    mode='lines',\n",
    "    name='SMA 100',\n",
    "    line=dict(color='green', width=1, dash='dash')\n",
    "))\n",
    "fig.add_trace(go.Scatter(\n",
    "    x=btc_data.index, \n",
    "    y=btc_data['SMA_200'], \n",
    "    mode='lines',\n",
    "    name='SMA 200',\n",
    "    line=dict(color='red', width=1, dash='dash')\n",
    "))\n",
    "\n",
    "# Configurar el diseño del gráfico\n",
    "fig.update_layout(\n",
    "    title='Precio de BTC con Medias Móviles SMA',\n",
    "    xaxis_title='Fecha',\n",
    "    yaxis_title='Precio de BTC (USD)',\n",
    "    template='plotly_white',\n",
    "    legend=dict(orientation=\"h\", yanchor=\"bottom\", y=1.02, xanchor=\"right\", x=1)\n",
    ")\n",
    "\n",
    "# Mostrar el gráfico\n",
    "fig.show()\n"
   ]
  }
 ],
 "metadata": {
  "kernelspec": {
   "display_name": "venv-quant",
   "language": "python",
   "name": "python3"
  },
  "language_info": {
   "codemirror_mode": {
    "name": "ipython",
    "version": 3
   },
   "file_extension": ".py",
   "mimetype": "text/x-python",
   "name": "python",
   "nbconvert_exporter": "python",
   "pygments_lexer": "ipython3",
   "version": "3.12.6"
  }
 },
 "nbformat": 4,
 "nbformat_minor": 2
}
