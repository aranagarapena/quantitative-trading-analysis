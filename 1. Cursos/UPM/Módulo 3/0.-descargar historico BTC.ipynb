{
 "cells": [
  {
   "cell_type": "code",
   "execution_count": 1,
   "metadata": {},
   "outputs": [
    {
     "name": "stderr",
     "output_type": "stream",
     "text": [
      "[*********************100%***********************]  1 of 1 completed"
     ]
    },
    {
     "name": "stdout",
     "output_type": "stream",
     "text": [
      "Archivo generado correctamente: ./BTC_NT8_Daily.csv\n"
     ]
    },
    {
     "name": "stderr",
     "output_type": "stream",
     "text": [
      "\n"
     ]
    }
   ],
   "source": [
    "import yfinance as yf\n",
    "import pandas as pd\n",
    "\n",
    "# Descargar datos históricos de BTC en timeframe diario\n",
    "start_date = \"2013-12-01\"\n",
    "end_date = \"2023-12-01\"\n",
    "btc_data = yf.download(\"BTC-USD\", start=start_date, end=end_date, interval=\"1d\")\n",
    "\n",
    "# Verificar si se descargaron datos\n",
    "if btc_data.empty:\n",
    "    print(\"No se encontraron datos para el rango de fechas proporcionado.\")\n",
    "else:\n",
    "    # Formatear los datos para NinjaTrader\n",
    "    btc_data.reset_index(inplace=True)  # Resetear índice para trabajar con fechas\n",
    "    btc_data[\"Date\"] = btc_data[\"Date\"].dt.strftime(\"%Y%m%d\")  # Formato de fecha\n",
    "    nt_data = btc_data[[\"Date\", \"Open\", \"High\", \"Low\", \"Close\", \"Volume\"]]\n",
    "\n",
    "    # Guardar en un archivo CSV\n",
    "    output_file = \"./BTC_NT8_Daily.csv\"\n",
    "    nt_data.to_csv(output_file, index=False, header=False)\n",
    "    print(f\"Archivo generado correctamente: {output_file}\")\n"
   ]
  },
  {
   "cell_type": "code",
   "execution_count": 7,
   "metadata": {},
   "outputs": [
    {
     "name": "stderr",
     "output_type": "stream",
     "text": [
      "[*********************100%***********************]  1 of 1 completed"
     ]
    },
    {
     "name": "stdout",
     "output_type": "stream",
     "text": [
      "Archivo generado correctamente: BTC_NT8_Daily.txt\n"
     ]
    },
    {
     "name": "stderr",
     "output_type": "stream",
     "text": [
      "\n",
      "C:\\Users\\Iker Arana\\AppData\\Local\\Temp\\ipykernel_17764\\3867489125.py:20: SettingWithCopyWarning: \n",
      "A value is trying to be set on a copy of a slice from a DataFrame.\n",
      "Try using .loc[row_indexer,col_indexer] = value instead\n",
      "\n",
      "See the caveats in the documentation: https://pandas.pydata.org/pandas-docs/stable/user_guide/indexing.html#returning-a-view-versus-a-copy\n",
      "  nt_data['Date'] = nt_data['Date'].dt.strftime('%Y%m%d')\n"
     ]
    }
   ],
   "source": [
    "import yfinance as yf\n",
    "import pandas as pd\n",
    "\n",
    "# Descargar los datos históricos de BTC/USD\n",
    "btc_data = yf.download(\"BTC-USD\", start=\"2015-01-01\", end=\"2024-12-01\", interval=\"1d\")\n",
    "\n",
    "# Eliminar valores faltantes\n",
    "btc_data = btc_data.dropna()\n",
    "\n",
    "# Restablecer el índice para tener la columna 'Date' en lugar del índice\n",
    "btc_data.reset_index(inplace=True)\n",
    "\n",
    "# Agregar la columna de tiempo con valores fijos (000000 para la hora)\n",
    "btc_data['Time'] = '000000'\n",
    "\n",
    "# Crear un nuevo DataFrame con las columnas necesarias\n",
    "nt_data = btc_data[['Date', 'Time', 'Open', 'High', 'Low', 'Close', 'Volume']]\n",
    "\n",
    "# Convertir la fecha a formato YYYYMMDD\n",
    "nt_data['Date'] = nt_data['Date'].dt.strftime('%Y%m%d')\n",
    "\n",
    "# Exportar los datos a un archivo de texto o CSV\n",
    "output_file = \"BTC_NT8_Daily.txt\"\n",
    "nt_data.to_csv(output_file, sep=';', index=False, header=False)\n",
    "\n",
    "print(f\"Archivo generado correctamente: {output_file}\")\n"
   ]
  }
 ],
 "metadata": {
  "kernelspec": {
   "display_name": "venv-quant",
   "language": "python",
   "name": "python3"
  },
  "language_info": {
   "codemirror_mode": {
    "name": "ipython",
    "version": 3
   },
   "file_extension": ".py",
   "mimetype": "text/x-python",
   "name": "python",
   "nbconvert_exporter": "python",
   "pygments_lexer": "ipython3",
   "version": "3.12.6"
  }
 },
 "nbformat": 4,
 "nbformat_minor": 2
}
