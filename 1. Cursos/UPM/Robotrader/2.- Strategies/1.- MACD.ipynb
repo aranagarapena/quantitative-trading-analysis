{
 "cells": [
  {
   "cell_type": "code",
   "execution_count": 39,
   "metadata": {},
   "outputs": [],
   "source": [
    "import numpy as np\n",
    "import pandas as pd\n",
    "import yfinance as yf\n",
    "import datetime as dt\n",
    "import talib as ta\n",
    "import matplotlib.pyplot as plt\n",
    "import plotly.graph_objects as go\n",
    "import dash\n",
    "from dash import dcc, html"
   ]
  },
  {
   "cell_type": "code",
   "execution_count": 40,
   "metadata": {},
   "outputs": [
    {
     "name": "stderr",
     "output_type": "stream",
     "text": [
      "[*********************100%***********************]  1 of 1 completed\n"
     ]
    }
   ],
   "source": [
    "data_btc = yf.download('BTC-USD', period=\"10y\", interval=\"1d\")"
   ]
  },
  {
   "cell_type": "code",
   "execution_count": 43,
   "metadata": {},
   "outputs": [],
   "source": [
    "# hacemos una copia del DF\n",
    "data = data_btc.copy()\n",
    "\n",
    "# Asegurar que el índice es de tipo datetime\n",
    "data.index = pd.to_datetime(data.index)\n",
    "\n",
    "# Solicitar año al usuario\n",
    "year = input(\"Introduce el año en formato 'YYYY': \")\n",
    "\n",
    "# Filtrar el DataFrame por el año proporcionado\n",
    "filtered_df = data[data.index.year == int(year)]\n",
    "\n"
   ]
  },
  {
   "cell_type": "code",
   "execution_count": 36,
   "metadata": {},
   "outputs": [
    {
     "data": {
      "text/html": [
       "<div>\n",
       "<style scoped>\n",
       "    .dataframe tbody tr th:only-of-type {\n",
       "        vertical-align: middle;\n",
       "    }\n",
       "\n",
       "    .dataframe tbody tr th {\n",
       "        vertical-align: top;\n",
       "    }\n",
       "\n",
       "    .dataframe thead tr th {\n",
       "        text-align: left;\n",
       "    }\n",
       "\n",
       "    .dataframe thead tr:last-of-type th {\n",
       "        text-align: right;\n",
       "    }\n",
       "</style>\n",
       "<table border=\"1\" class=\"dataframe\">\n",
       "  <thead>\n",
       "    <tr>\n",
       "      <th>Price</th>\n",
       "      <th>Adj Close</th>\n",
       "      <th>Close</th>\n",
       "      <th>High</th>\n",
       "      <th>Low</th>\n",
       "      <th>Open</th>\n",
       "      <th>Volume</th>\n",
       "      <th>macd</th>\n",
       "      <th>macdSignal</th>\n",
       "      <th>macdHist</th>\n",
       "      <th>macd_test</th>\n",
       "    </tr>\n",
       "    <tr>\n",
       "      <th>Ticker</th>\n",
       "      <th>BTC-USD</th>\n",
       "      <th>BTC-USD</th>\n",
       "      <th>BTC-USD</th>\n",
       "      <th>BTC-USD</th>\n",
       "      <th>BTC-USD</th>\n",
       "      <th>BTC-USD</th>\n",
       "      <th></th>\n",
       "      <th></th>\n",
       "      <th></th>\n",
       "      <th></th>\n",
       "    </tr>\n",
       "    <tr>\n",
       "      <th>Date</th>\n",
       "      <th></th>\n",
       "      <th></th>\n",
       "      <th></th>\n",
       "      <th></th>\n",
       "      <th></th>\n",
       "      <th></th>\n",
       "      <th></th>\n",
       "      <th></th>\n",
       "      <th></th>\n",
       "      <th></th>\n",
       "    </tr>\n",
       "  </thead>\n",
       "  <tbody>\n",
       "    <tr>\n",
       "      <th>2015-02-12 00:00:00+00:00</th>\n",
       "      <td>221.764008</td>\n",
       "      <td>221.764008</td>\n",
       "      <td>222.199005</td>\n",
       "      <td>217.613998</td>\n",
       "      <td>219.207993</td>\n",
       "      <td>15206200</td>\n",
       "      <td>NaN</td>\n",
       "      <td>NaN</td>\n",
       "      <td>NaN</td>\n",
       "      <td>0</td>\n",
       "    </tr>\n",
       "    <tr>\n",
       "      <th>2015-02-13 00:00:00+00:00</th>\n",
       "      <td>235.427002</td>\n",
       "      <td>235.427002</td>\n",
       "      <td>240.259003</td>\n",
       "      <td>221.261993</td>\n",
       "      <td>221.968994</td>\n",
       "      <td>42744400</td>\n",
       "      <td>NaN</td>\n",
       "      <td>NaN</td>\n",
       "      <td>NaN</td>\n",
       "      <td>0</td>\n",
       "    </tr>\n",
       "    <tr>\n",
       "      <th>2015-02-14 00:00:00+00:00</th>\n",
       "      <td>257.321014</td>\n",
       "      <td>257.321014</td>\n",
       "      <td>259.808014</td>\n",
       "      <td>235.528000</td>\n",
       "      <td>235.528000</td>\n",
       "      <td>49732500</td>\n",
       "      <td>NaN</td>\n",
       "      <td>NaN</td>\n",
       "      <td>NaN</td>\n",
       "      <td>0</td>\n",
       "    </tr>\n",
       "    <tr>\n",
       "      <th>2015-02-15 00:00:00+00:00</th>\n",
       "      <td>234.824997</td>\n",
       "      <td>234.824997</td>\n",
       "      <td>265.610992</td>\n",
       "      <td>227.684006</td>\n",
       "      <td>257.506989</td>\n",
       "      <td>56552400</td>\n",
       "      <td>NaN</td>\n",
       "      <td>NaN</td>\n",
       "      <td>NaN</td>\n",
       "      <td>0</td>\n",
       "    </tr>\n",
       "    <tr>\n",
       "      <th>2015-02-16 00:00:00+00:00</th>\n",
       "      <td>233.843002</td>\n",
       "      <td>233.843002</td>\n",
       "      <td>239.520996</td>\n",
       "      <td>229.022003</td>\n",
       "      <td>234.824997</td>\n",
       "      <td>28153700</td>\n",
       "      <td>NaN</td>\n",
       "      <td>NaN</td>\n",
       "      <td>NaN</td>\n",
       "      <td>0</td>\n",
       "    </tr>\n",
       "  </tbody>\n",
       "</table>\n",
       "</div>"
      ],
      "text/plain": [
       "Price                       Adj Close       Close        High         Low  \\\n",
       "Ticker                        BTC-USD     BTC-USD     BTC-USD     BTC-USD   \n",
       "Date                                                                        \n",
       "2015-02-12 00:00:00+00:00  221.764008  221.764008  222.199005  217.613998   \n",
       "2015-02-13 00:00:00+00:00  235.427002  235.427002  240.259003  221.261993   \n",
       "2015-02-14 00:00:00+00:00  257.321014  257.321014  259.808014  235.528000   \n",
       "2015-02-15 00:00:00+00:00  234.824997  234.824997  265.610992  227.684006   \n",
       "2015-02-16 00:00:00+00:00  233.843002  233.843002  239.520996  229.022003   \n",
       "\n",
       "Price                            Open    Volume macd macdSignal macdHist  \\\n",
       "Ticker                        BTC-USD   BTC-USD                            \n",
       "Date                                                                       \n",
       "2015-02-12 00:00:00+00:00  219.207993  15206200  NaN        NaN      NaN   \n",
       "2015-02-13 00:00:00+00:00  221.968994  42744400  NaN        NaN      NaN   \n",
       "2015-02-14 00:00:00+00:00  235.528000  49732500  NaN        NaN      NaN   \n",
       "2015-02-15 00:00:00+00:00  257.506989  56552400  NaN        NaN      NaN   \n",
       "2015-02-16 00:00:00+00:00  234.824997  28153700  NaN        NaN      NaN   \n",
       "\n",
       "Price                     macd_test  \n",
       "Ticker                               \n",
       "Date                                 \n",
       "2015-02-12 00:00:00+00:00         0  \n",
       "2015-02-13 00:00:00+00:00         0  \n",
       "2015-02-14 00:00:00+00:00         0  \n",
       "2015-02-15 00:00:00+00:00         0  \n",
       "2015-02-16 00:00:00+00:00         0  "
      ]
     },
     "execution_count": 36,
     "metadata": {},
     "output_type": "execute_result"
    }
   ],
   "source": [
    "data = data_btc.copy()\n",
    "\n",
    "MACD_FAST = 12\n",
    "MACD_SLOW = 26\n",
    "MACD_SIGNAL = 9\n",
    "\n",
    "close_prices = data['Close'].astype(float).values\n",
    "close_prices = close_prices.ravel()  # También puedes usar .flatten()\n",
    "\n",
    "data['macd'], data['macdSignal'], data['macdHist'] = ta.MACD(close_prices,fastperiod=MACD_FAST, slowperiod=MACD_SLOW, signalperiod=MACD_SIGNAL)\n",
    "data['macd_test'] = np.where((data.macd > data.macdSignal), 1, 0)\n",
    "\n",
    "# print(close_prices)\n",
    "data.head()"
   ]
  },
  {
   "cell_type": "code",
   "execution_count": null,
   "metadata": {},
   "outputs": [
    {
     "data": {
      "application/vnd.plotly.v1+json": {
       "config": {
        "plotlyServerURL": "https://plot.ly"
       },
       "data": [
        {
         "close": {
          "bdata": "AAAAIDwN90AAAAAAbqf3QAAAAOC28/dAAAAAoMP790AAAABgrwD4QAAAAGDh6/hAAAAAQKup90AAAABgODT3QAAAAKBAlPZAAAAAQNce90AAAACAaRb3QAAAAACHEfdAAAAAYEgT90AAAADAYJH3QAAAAOCHifhAAAAAgM5a+EAAAACg4ID5QAAAACCBfflAAAAAwBmu+EAAAACgCuj4QAAAAEAk6vlAAAAAIFFO+UAAAADAgmH5QAAAAMA3l/lAAAAAYKqQ+UAAAAAAqBH5QAAAAAB77PhAAAAAoEe9+EAAAABgc1H5QAAAAOD0kflAAAAAYFAA+UAAAACA/pL4QAAAAKCP2fdAAAAAwNbB+EAAAAAg/eT3QAAAACB3lvdAAAAAwBSV90AAAABgEZH3QAAAAEAnjvdAAAAAgEGP90AAAADgsMD3QA==",
          "dtype": "f8",
          "shape": "41, 1"
         },
         "high": {
          "bdata": "AAAA4B0t90AAAAAgvdz3QAAAAKDOKPhAAAAA4OYa+EAAAADg1B/4QAAAAAAuBflAAAAAwIcT+UAAAAAgpb73QAAAAIBbR/dAAAAAwKlh90AAAAAAGzD3QAAAAKB4SPdAAAAAANBl90AAAACgisT3QAAAAMCTlfhAAAAAYNma+EAAAACgw9n5QAAAAEATnflAAAAAwLzz+UAAAAAgrqP6QAAAAMDOKvpAAAAAgGXz+UAAAABARRT6QAAAAMCoJfpAAAAAoLyx+UAAAABg6r35QAAAAMDhMvlAAAAAIC1T+UAAAADg7JL5QAAAAEAs+/lAAAAAoKXi+UAAAACgOxb5QAAAAKBqw/hAAAAAwCIH+UAAAADgGdf4QAAAAGCTMvhAAAAAwAk2+EAAAABAonP4QAAAAODcpvdAAAAAgNTC90AAAADgLPz3QA==",
          "dtype": "f8",
          "shape": "41, 1"
         },
         "low": {
          "bdata": "AAAAAEKn9kAAAAAgmf/2QAAAAOApcvdAAAAAoK/R90AAAABAvMD3QAAAAGBi6PdAAAAAAE5490AAAACA3Zb2QAAAAIBNRfZAAAAAgKGF9kAAAADAAOn2QAAAACAI4fZAAAAAoMHK9UAAAACAIgf3QAAAAEBaj/dAAAAAIEfF90AAAACAzmb4QAAAAOAp9fhAAAAAgChP+EAAAADA9Uj4QAAAAEB/cPhAAAAAQAQ8+UAAAADgnLj4QAAAAABCF/lAAAAAAIZr+UAAAABguwb5QAAAAAA/4PdAAAAAAON4+EAAAAAgPbr4QAAAAGCaOflAAAAAIH7K+EAAAABgm3z4QAAAAECBffdAAAAAQK5G9kAAAADAAX33QAAAAEDtevdAAAAAoLVd90AAAAAgXlr3QAAAAOBnXfdAAAAAIJQh90AAAABAnFL3QA==",
          "dtype": "f8",
          "shape": "41, 1"
         },
         "name": "Precio de Cierre",
         "open": {
          "bdata": "AAAAoBHP9kAAAACgBA33QAAAAKAbp/dAAAAA4K/z90AAAACAnvv3QAAAAECvAPhAAAAAoI32+EAAAACgwqn3QAAAAMA3NPdAAAAA4OeU9kAAAABgzR73QAAAAKBbFvdAAAAAQI4R90AAAAAgcBP3QAAAAMBgkfdAAAAAwJSJ+EAAAABAnGv4QAAAAEDPa/lAAAAAoLR9+UAAAAAAvK34QAAAAEBJ6vhAAAAAIIbp+UAAAADAmk75QAAAAMDaYflAAAAAgICX+UAAAABgk5D5QAAAAOCEEflAAAAAoPbs+EAAAABgWLz4QAAAAGDVUflAAAAAABmS+UAAAADALAD5QAAAAKBYk/hAAAAAoBHZ90AAAACAa8H4QAAAACBg5fdAAAAAQCqW90AAAAAgVZT3QAAAACBUkfdAAAAAABWO90AAAABAh473QA==",
          "dtype": "f8",
          "shape": "41, 1"
         },
         "type": "candlestick",
         "x": [
          "2025-01-01T00:00:00+00:00",
          "2025-01-02T00:00:00+00:00",
          "2025-01-03T00:00:00+00:00",
          "2025-01-04T00:00:00+00:00",
          "2025-01-05T00:00:00+00:00",
          "2025-01-06T00:00:00+00:00",
          "2025-01-07T00:00:00+00:00",
          "2025-01-08T00:00:00+00:00",
          "2025-01-09T00:00:00+00:00",
          "2025-01-10T00:00:00+00:00",
          "2025-01-11T00:00:00+00:00",
          "2025-01-12T00:00:00+00:00",
          "2025-01-13T00:00:00+00:00",
          "2025-01-14T00:00:00+00:00",
          "2025-01-15T00:00:00+00:00",
          "2025-01-16T00:00:00+00:00",
          "2025-01-17T00:00:00+00:00",
          "2025-01-18T00:00:00+00:00",
          "2025-01-19T00:00:00+00:00",
          "2025-01-20T00:00:00+00:00",
          "2025-01-21T00:00:00+00:00",
          "2025-01-22T00:00:00+00:00",
          "2025-01-23T00:00:00+00:00",
          "2025-01-24T00:00:00+00:00",
          "2025-01-25T00:00:00+00:00",
          "2025-01-26T00:00:00+00:00",
          "2025-01-27T00:00:00+00:00",
          "2025-01-28T00:00:00+00:00",
          "2025-01-29T00:00:00+00:00",
          "2025-01-30T00:00:00+00:00",
          "2025-01-31T00:00:00+00:00",
          "2025-02-01T00:00:00+00:00",
          "2025-02-02T00:00:00+00:00",
          "2025-02-03T00:00:00+00:00",
          "2025-02-04T00:00:00+00:00",
          "2025-02-05T00:00:00+00:00",
          "2025-02-06T00:00:00+00:00",
          "2025-02-07T00:00:00+00:00",
          "2025-02-08T00:00:00+00:00",
          "2025-02-09T00:00:00+00:00",
          "2025-02-10T00:00:00+00:00"
         ]
        }
       ],
       "layout": {
        "template": {
         "data": {
          "bar": [
           {
            "error_x": {
             "color": "#2a3f5f"
            },
            "error_y": {
             "color": "#2a3f5f"
            },
            "marker": {
             "line": {
              "color": "white",
              "width": 0.5
             },
             "pattern": {
              "fillmode": "overlay",
              "size": 10,
              "solidity": 0.2
             }
            },
            "type": "bar"
           }
          ],
          "barpolar": [
           {
            "marker": {
             "line": {
              "color": "white",
              "width": 0.5
             },
             "pattern": {
              "fillmode": "overlay",
              "size": 10,
              "solidity": 0.2
             }
            },
            "type": "barpolar"
           }
          ],
          "carpet": [
           {
            "aaxis": {
             "endlinecolor": "#2a3f5f",
             "gridcolor": "#C8D4E3",
             "linecolor": "#C8D4E3",
             "minorgridcolor": "#C8D4E3",
             "startlinecolor": "#2a3f5f"
            },
            "baxis": {
             "endlinecolor": "#2a3f5f",
             "gridcolor": "#C8D4E3",
             "linecolor": "#C8D4E3",
             "minorgridcolor": "#C8D4E3",
             "startlinecolor": "#2a3f5f"
            },
            "type": "carpet"
           }
          ],
          "choropleth": [
           {
            "colorbar": {
             "outlinewidth": 0,
             "ticks": ""
            },
            "type": "choropleth"
           }
          ],
          "contour": [
           {
            "colorbar": {
             "outlinewidth": 0,
             "ticks": ""
            },
            "colorscale": [
             [
              0,
              "#0d0887"
             ],
             [
              0.1111111111111111,
              "#46039f"
             ],
             [
              0.2222222222222222,
              "#7201a8"
             ],
             [
              0.3333333333333333,
              "#9c179e"
             ],
             [
              0.4444444444444444,
              "#bd3786"
             ],
             [
              0.5555555555555556,
              "#d8576b"
             ],
             [
              0.6666666666666666,
              "#ed7953"
             ],
             [
              0.7777777777777778,
              "#fb9f3a"
             ],
             [
              0.8888888888888888,
              "#fdca26"
             ],
             [
              1,
              "#f0f921"
             ]
            ],
            "type": "contour"
           }
          ],
          "contourcarpet": [
           {
            "colorbar": {
             "outlinewidth": 0,
             "ticks": ""
            },
            "type": "contourcarpet"
           }
          ],
          "heatmap": [
           {
            "colorbar": {
             "outlinewidth": 0,
             "ticks": ""
            },
            "colorscale": [
             [
              0,
              "#0d0887"
             ],
             [
              0.1111111111111111,
              "#46039f"
             ],
             [
              0.2222222222222222,
              "#7201a8"
             ],
             [
              0.3333333333333333,
              "#9c179e"
             ],
             [
              0.4444444444444444,
              "#bd3786"
             ],
             [
              0.5555555555555556,
              "#d8576b"
             ],
             [
              0.6666666666666666,
              "#ed7953"
             ],
             [
              0.7777777777777778,
              "#fb9f3a"
             ],
             [
              0.8888888888888888,
              "#fdca26"
             ],
             [
              1,
              "#f0f921"
             ]
            ],
            "type": "heatmap"
           }
          ],
          "histogram": [
           {
            "marker": {
             "pattern": {
              "fillmode": "overlay",
              "size": 10,
              "solidity": 0.2
             }
            },
            "type": "histogram"
           }
          ],
          "histogram2d": [
           {
            "colorbar": {
             "outlinewidth": 0,
             "ticks": ""
            },
            "colorscale": [
             [
              0,
              "#0d0887"
             ],
             [
              0.1111111111111111,
              "#46039f"
             ],
             [
              0.2222222222222222,
              "#7201a8"
             ],
             [
              0.3333333333333333,
              "#9c179e"
             ],
             [
              0.4444444444444444,
              "#bd3786"
             ],
             [
              0.5555555555555556,
              "#d8576b"
             ],
             [
              0.6666666666666666,
              "#ed7953"
             ],
             [
              0.7777777777777778,
              "#fb9f3a"
             ],
             [
              0.8888888888888888,
              "#fdca26"
             ],
             [
              1,
              "#f0f921"
             ]
            ],
            "type": "histogram2d"
           }
          ],
          "histogram2dcontour": [
           {
            "colorbar": {
             "outlinewidth": 0,
             "ticks": ""
            },
            "colorscale": [
             [
              0,
              "#0d0887"
             ],
             [
              0.1111111111111111,
              "#46039f"
             ],
             [
              0.2222222222222222,
              "#7201a8"
             ],
             [
              0.3333333333333333,
              "#9c179e"
             ],
             [
              0.4444444444444444,
              "#bd3786"
             ],
             [
              0.5555555555555556,
              "#d8576b"
             ],
             [
              0.6666666666666666,
              "#ed7953"
             ],
             [
              0.7777777777777778,
              "#fb9f3a"
             ],
             [
              0.8888888888888888,
              "#fdca26"
             ],
             [
              1,
              "#f0f921"
             ]
            ],
            "type": "histogram2dcontour"
           }
          ],
          "mesh3d": [
           {
            "colorbar": {
             "outlinewidth": 0,
             "ticks": ""
            },
            "type": "mesh3d"
           }
          ],
          "parcoords": [
           {
            "line": {
             "colorbar": {
              "outlinewidth": 0,
              "ticks": ""
             }
            },
            "type": "parcoords"
           }
          ],
          "pie": [
           {
            "automargin": true,
            "type": "pie"
           }
          ],
          "scatter": [
           {
            "fillpattern": {
             "fillmode": "overlay",
             "size": 10,
             "solidity": 0.2
            },
            "type": "scatter"
           }
          ],
          "scatter3d": [
           {
            "line": {
             "colorbar": {
              "outlinewidth": 0,
              "ticks": ""
             }
            },
            "marker": {
             "colorbar": {
              "outlinewidth": 0,
              "ticks": ""
             }
            },
            "type": "scatter3d"
           }
          ],
          "scattercarpet": [
           {
            "marker": {
             "colorbar": {
              "outlinewidth": 0,
              "ticks": ""
             }
            },
            "type": "scattercarpet"
           }
          ],
          "scattergeo": [
           {
            "marker": {
             "colorbar": {
              "outlinewidth": 0,
              "ticks": ""
             }
            },
            "type": "scattergeo"
           }
          ],
          "scattergl": [
           {
            "marker": {
             "colorbar": {
              "outlinewidth": 0,
              "ticks": ""
             }
            },
            "type": "scattergl"
           }
          ],
          "scattermap": [
           {
            "marker": {
             "colorbar": {
              "outlinewidth": 0,
              "ticks": ""
             }
            },
            "type": "scattermap"
           }
          ],
          "scattermapbox": [
           {
            "marker": {
             "colorbar": {
              "outlinewidth": 0,
              "ticks": ""
             }
            },
            "type": "scattermapbox"
           }
          ],
          "scatterpolar": [
           {
            "marker": {
             "colorbar": {
              "outlinewidth": 0,
              "ticks": ""
             }
            },
            "type": "scatterpolar"
           }
          ],
          "scatterpolargl": [
           {
            "marker": {
             "colorbar": {
              "outlinewidth": 0,
              "ticks": ""
             }
            },
            "type": "scatterpolargl"
           }
          ],
          "scatterternary": [
           {
            "marker": {
             "colorbar": {
              "outlinewidth": 0,
              "ticks": ""
             }
            },
            "type": "scatterternary"
           }
          ],
          "surface": [
           {
            "colorbar": {
             "outlinewidth": 0,
             "ticks": ""
            },
            "colorscale": [
             [
              0,
              "#0d0887"
             ],
             [
              0.1111111111111111,
              "#46039f"
             ],
             [
              0.2222222222222222,
              "#7201a8"
             ],
             [
              0.3333333333333333,
              "#9c179e"
             ],
             [
              0.4444444444444444,
              "#bd3786"
             ],
             [
              0.5555555555555556,
              "#d8576b"
             ],
             [
              0.6666666666666666,
              "#ed7953"
             ],
             [
              0.7777777777777778,
              "#fb9f3a"
             ],
             [
              0.8888888888888888,
              "#fdca26"
             ],
             [
              1,
              "#f0f921"
             ]
            ],
            "type": "surface"
           }
          ],
          "table": [
           {
            "cells": {
             "fill": {
              "color": "#EBF0F8"
             },
             "line": {
              "color": "white"
             }
            },
            "header": {
             "fill": {
              "color": "#C8D4E3"
             },
             "line": {
              "color": "white"
             }
            },
            "type": "table"
           }
          ]
         },
         "layout": {
          "annotationdefaults": {
           "arrowcolor": "#2a3f5f",
           "arrowhead": 0,
           "arrowwidth": 1
          },
          "autotypenumbers": "strict",
          "coloraxis": {
           "colorbar": {
            "outlinewidth": 0,
            "ticks": ""
           }
          },
          "colorscale": {
           "diverging": [
            [
             0,
             "#8e0152"
            ],
            [
             0.1,
             "#c51b7d"
            ],
            [
             0.2,
             "#de77ae"
            ],
            [
             0.3,
             "#f1b6da"
            ],
            [
             0.4,
             "#fde0ef"
            ],
            [
             0.5,
             "#f7f7f7"
            ],
            [
             0.6,
             "#e6f5d0"
            ],
            [
             0.7,
             "#b8e186"
            ],
            [
             0.8,
             "#7fbc41"
            ],
            [
             0.9,
             "#4d9221"
            ],
            [
             1,
             "#276419"
            ]
           ],
           "sequential": [
            [
             0,
             "#0d0887"
            ],
            [
             0.1111111111111111,
             "#46039f"
            ],
            [
             0.2222222222222222,
             "#7201a8"
            ],
            [
             0.3333333333333333,
             "#9c179e"
            ],
            [
             0.4444444444444444,
             "#bd3786"
            ],
            [
             0.5555555555555556,
             "#d8576b"
            ],
            [
             0.6666666666666666,
             "#ed7953"
            ],
            [
             0.7777777777777778,
             "#fb9f3a"
            ],
            [
             0.8888888888888888,
             "#fdca26"
            ],
            [
             1,
             "#f0f921"
            ]
           ],
           "sequentialminus": [
            [
             0,
             "#0d0887"
            ],
            [
             0.1111111111111111,
             "#46039f"
            ],
            [
             0.2222222222222222,
             "#7201a8"
            ],
            [
             0.3333333333333333,
             "#9c179e"
            ],
            [
             0.4444444444444444,
             "#bd3786"
            ],
            [
             0.5555555555555556,
             "#d8576b"
            ],
            [
             0.6666666666666666,
             "#ed7953"
            ],
            [
             0.7777777777777778,
             "#fb9f3a"
            ],
            [
             0.8888888888888888,
             "#fdca26"
            ],
            [
             1,
             "#f0f921"
            ]
           ]
          },
          "colorway": [
           "#636efa",
           "#EF553B",
           "#00cc96",
           "#ab63fa",
           "#FFA15A",
           "#19d3f3",
           "#FF6692",
           "#B6E880",
           "#FF97FF",
           "#FECB52"
          ],
          "font": {
           "color": "#2a3f5f"
          },
          "geo": {
           "bgcolor": "white",
           "lakecolor": "white",
           "landcolor": "white",
           "showlakes": true,
           "showland": true,
           "subunitcolor": "#C8D4E3"
          },
          "hoverlabel": {
           "align": "left"
          },
          "hovermode": "closest",
          "mapbox": {
           "style": "light"
          },
          "paper_bgcolor": "white",
          "plot_bgcolor": "white",
          "polar": {
           "angularaxis": {
            "gridcolor": "#EBF0F8",
            "linecolor": "#EBF0F8",
            "ticks": ""
           },
           "bgcolor": "white",
           "radialaxis": {
            "gridcolor": "#EBF0F8",
            "linecolor": "#EBF0F8",
            "ticks": ""
           }
          },
          "scene": {
           "xaxis": {
            "backgroundcolor": "white",
            "gridcolor": "#DFE8F3",
            "gridwidth": 2,
            "linecolor": "#EBF0F8",
            "showbackground": true,
            "ticks": "",
            "zerolinecolor": "#EBF0F8"
           },
           "yaxis": {
            "backgroundcolor": "white",
            "gridcolor": "#DFE8F3",
            "gridwidth": 2,
            "linecolor": "#EBF0F8",
            "showbackground": true,
            "ticks": "",
            "zerolinecolor": "#EBF0F8"
           },
           "zaxis": {
            "backgroundcolor": "white",
            "gridcolor": "#DFE8F3",
            "gridwidth": 2,
            "linecolor": "#EBF0F8",
            "showbackground": true,
            "ticks": "",
            "zerolinecolor": "#EBF0F8"
           }
          },
          "shapedefaults": {
           "line": {
            "color": "#2a3f5f"
           }
          },
          "ternary": {
           "aaxis": {
            "gridcolor": "#DFE8F3",
            "linecolor": "#A2B1C6",
            "ticks": ""
           },
           "baxis": {
            "gridcolor": "#DFE8F3",
            "linecolor": "#A2B1C6",
            "ticks": ""
           },
           "bgcolor": "white",
           "caxis": {
            "gridcolor": "#DFE8F3",
            "linecolor": "#A2B1C6",
            "ticks": ""
           }
          },
          "title": {
           "x": 0.05
          },
          "xaxis": {
           "automargin": true,
           "gridcolor": "#EBF0F8",
           "linecolor": "#EBF0F8",
           "ticks": "",
           "title": {
            "standoff": 15
           },
           "zerolinecolor": "#EBF0F8",
           "zerolinewidth": 2
          },
          "yaxis": {
           "automargin": true,
           "gridcolor": "#EBF0F8",
           "linecolor": "#EBF0F8",
           "ticks": "",
           "title": {
            "standoff": 15
           },
           "zerolinecolor": "#EBF0F8",
           "zerolinewidth": 2
          }
         }
        },
        "title": {
         "text": "Gráfico de Velas - Precio en 2025"
        },
        "xaxis": {
         "rangeslider": {
          "visible": true
         },
         "tickformat": "%Y-%m-%d",
         "title": {
          "text": "Fecha"
         },
         "type": "date"
        },
        "yaxis": {
         "title": {
          "text": "Precio"
         }
        }
       }
      }
     },
     "metadata": {},
     "output_type": "display_data"
    }
   ],
   "source": [
    "import plotly.graph_objects as go\n",
    "import pandas as pd\n",
    "\n",
    "# Asegurar que el índice es de tipo datetime\n",
    "data.index = pd.to_datetime(data.index)\n",
    "\n",
    "# Filtrar datos para 2025\n",
    "data_2025 = data[data.index.year == 2025]\n",
    "\n",
    "# Verificar si hay datos para 2025\n",
    "if data_2025.empty:\n",
    "    raise ValueError(\"No hay datos disponibles para el año 2025.\")\n",
    "\n",
    "# Crear el gráfico de velas japonesas con Plotly\n",
    "fig = go.Figure()\n",
    "\n",
    "# Añadir gráfico de velas\n",
    "fig.add_trace(go.Candlestick(\n",
    "    x=data_2025.index,\n",
    "    open=data_2025['Open'],\n",
    "    high=data_2025['High'],\n",
    "    low=data_2025['Low'],\n",
    "    close=data_2025['Close'],\n",
    "    name='Precio de Cierre'\n",
    "))\n",
    "\n",
    "# Personalizar el diseño del gráfico\n",
    "fig.update_layout(\n",
    "    title='Gráfico de Velas - Precio en 2025',\n",
    "    xaxis_title='Fecha',\n",
    "    yaxis_title='Precio',\n",
    "    xaxis_rangeslider_visible=True,  # Mostrar slider de zoom\n",
    "    template='plotly_white',  # Fondo blanco\n",
    "    xaxis=dict(type='date', tickformat='%Y-%m-%d')  # Formato de fecha adecuado\n",
    ")\n",
    "\n",
    "# Mostrar el gráfico interactivo\n",
    "fig.show()\n"
   ]
  },
  {
   "cell_type": "code",
   "execution_count": null,
   "metadata": {},
   "outputs": [],
   "source": [
    "ma1=int(input('ma1:'))\n",
    "ma2=int(input('ma2:'))\n",
    "stdate=input('start date in format yyyy-mm-dd:')\n",
    "eddate=input('end date in format yyyy-mm-dd:')\n",
    "ticker=input('ticker:')"
   ]
  }
 ],
 "metadata": {
  "kernelspec": {
   "display_name": "venv-quant",
   "language": "python",
   "name": "python3"
  },
  "language_info": {
   "codemirror_mode": {
    "name": "ipython",
    "version": 3
   },
   "file_extension": ".py",
   "mimetype": "text/x-python",
   "name": "python",
   "nbconvert_exporter": "python",
   "pygments_lexer": "ipython3",
   "version": "3.12.6"
  }
 },
 "nbformat": 4,
 "nbformat_minor": 2
}
