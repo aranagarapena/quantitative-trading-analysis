{
 "cells": [
  {
   "cell_type": "markdown",
   "metadata": {},
   "source": [
    "REF: https://www.youtube.com/watch?v=JkiVKTqTK18"
   ]
  },
  {
   "cell_type": "code",
   "execution_count": 1,
   "metadata": {},
   "outputs": [],
   "source": [
    "# 1. importamos las librerias\n",
    "from ibapi.client import EClient\n",
    "from ibapi.wrapper import EWrapper\n",
    "from ibapi.contract import Contract\n",
    "from ibapi.order import Order\n",
    "import threading\n",
    "import time\n",
    "from ib_insync import *\n",
    "util.startLoop()\n"
   ]
  },
  {
   "cell_type": "code",
   "execution_count": 2,
   "metadata": {},
   "outputs": [],
   "source": [
    "# 2. Definimos una clase IB API para hacer todo lo que necesitemos\n",
    "class IBapi(EWrapper, EClient):\n",
    "\t\n",
    "\t# carga de funciones iniciales de la API de IB\n",
    "\tdef __init__(self):\n",
    "\t\tEClient.__init__(self, self)\n",
    "\n",
    "\t# solicita un ID para acceder a la API\n",
    "\tdef nextValidId(self, orderId: int):\n",
    "\t\tsuper().nextValidId(orderId)\n",
    "\t\tself.nextorderId = orderId\n",
    "\t\tprint('The next valid order id is: ', self.nextorderId)\n",
    "\n",
    "\t# las tres sisguentes funciones solo pintan información sobre la orden que queramos ejecutar\n",
    "\tdef orderStatus(self, orderId, status, filled, remaining, avgFullPrice, permId, parentId, lastFillPrice, clientId, whyHeld, mktCapPrice):\n",
    "\t\tprint('orderStatus - orderid:', orderId, 'status:', status, 'filled', filled, 'remaining', remaining, 'lastFillPrice', lastFillPrice)\n",
    "\t\n",
    "\tdef openOrder(self, orderId, contract, order, orderState):\n",
    "\t\tprint('openOrder id:', orderId, contract.symbol, contract.secType, '@', contract.exchange, ':', order.action, order.orderType, order.totalQuantity, orderState.status)\n",
    "\n",
    "\tdef execDetails(self, reqId, contract, execution):\n",
    "\t\tprint('Order Executed: ', reqId, contract.symbol, contract.secType, contract.currency, execution.execId, execution.orderId, execution.shares, execution.lastLiquidity)"
   ]
  },
  {
   "cell_type": "code",
   "execution_count": 3,
   "metadata": {},
   "outputs": [],
   "source": [
    "# 3. Definimos funciones utilies para la API\n",
    "def run_loop():\n",
    "\tapp.run()\n",
    " \n",
    "\n",
    "def defineContract(symbol,secType,exchange,currency='USD'):\n",
    "    contract = Contract()\n",
    "    contract.symbol = symbol\n",
    "    contract.secType = secType\n",
    "    contract.exchange = exchange\n",
    "    contract.currency = currency\n",
    "    return contract\n",
    "\n",
    "def createOrder(action,totalQuantity,orderType,lmtPrice=False):\n",
    "    order = Order()\n",
    "    order.action = action\n",
    "    order.totalQuantity = totalQuantity\n",
    "    order.orderType = orderType\n",
    "    if orderType == 'LMT':\n",
    "        order.lmtPrice = lmtPrice\n",
    "    return order"
   ]
  },
  {
   "cell_type": "code",
   "execution_count": 4,
   "metadata": {},
   "outputs": [
    {
     "name": "stderr",
     "output_type": "stream",
     "text": [
      "ERROR -1 2104 La conexión al centro de datos funciona correctamente:usfuture\n",
      "ERROR -1 2104 La conexión al centro de datos funciona correctamente:eufarm\n",
      "ERROR -1 2104 La conexión al centro de datos funciona correctamente:cashfarm\n",
      "ERROR -1 2104 La conexión al centro de datos funciona correctamente:usfarm\n",
      "ERROR -1 2106 La conexión al centro de datos HMDS funciona correctamente:euhmds\n",
      "ERROR -1 2106 La conexión al centro de datos HMDS funciona correctamente:cashhmds\n",
      "ERROR -1 2106 La conexión al centro de datos HMDS funciona correctamente:ushmds\n",
      "ERROR -1 2158 La conexión de la granja de datos \"sec-def\" funciona correctamente:secdefeu\n"
     ]
    },
    {
     "name": "stdout",
     "output_type": "stream",
     "text": [
      "waiting for connection\n",
      "The next valid order id is:  4\n",
      "connected\n",
      "openOrder id: 4 GBP CASH @ IDEALPRO : BUY LMT 25000.0 Submitted\n",
      "orderStatus - orderid: 4 status: Submitted filled 0.0 remaining 25000.0 lastFillPrice 0.0\n",
      "Order Executed:  -1 GBP CASH USD 000132b0.67a3f060.01.01 4 25000.0 2\n",
      "openOrder id: 4 GBP CASH @ IDEALPRO : BUY LMT 25000.0 Filled\n",
      "orderStatus - orderid: 4 status: Filled filled 25000.0 remaining 0.0 lastFillPrice 1.2376\n",
      "openOrder id: 4 GBP CASH @ IDEALPRO : BUY LMT 25000.0 Filled\n",
      "orderStatus - orderid: 4 status: Filled filled 25000.0 remaining 0.0 lastFillPrice 1.2376\n"
     ]
    },
    {
     "name": "stderr",
     "output_type": "stream",
     "text": [
      "ERROR 4 10148 La OrderId 4 que debe cancelarse no puede cancelarse; estado: Filled.\n"
     ]
    },
    {
     "name": "stdout",
     "output_type": "stream",
     "text": [
      "cancelling order\n"
     ]
    },
    {
     "ename": "",
     "evalue": "",
     "output_type": "error",
     "traceback": [
      "\u001b[1;31mEl kernel se bloqueó al ejecutar código en la celda actual o en una celda anterior. \n",
      "\u001b[1;31mRevise el código de las celdas para identificar una posible causa del error. \n",
      "\u001b[1;31mHaga clic <a href='https://aka.ms/vscodeJupyterKernelCrash'>aquí</a> para obtener más información. \n",
      "\u001b[1;31mVea Jupyter <a href='command:jupyter.viewOutput'>log</a> para obtener más detalles."
     ]
    }
   ],
   "source": [
    "# 4. Ejecutamos el programa\n",
    "\n",
    "# 4.1 nos conectamos a la API de IB\n",
    "app = IBapi()\n",
    "app.connect('127.0.0.1', port = 7497, clientId = 0)\n",
    "app.nextorderId = None # Definimos el ID por defecto como 'None'\n",
    "    \n",
    "api_thread = threading.Thread(target=run_loop, daemon=True)\n",
    "api_thread.start()\n",
    "\n",
    "# 4.2.- esperamos sin hacer nada hasta que se nos asigna una ID\n",
    "while True:\n",
    "\tif isinstance(app.nextorderId, int):\n",
    "\t\tprint('connected')\n",
    "\t\tbreak\n",
    "\telse:\n",
    "\t\tprint('waiting for connection')\n",
    "\t\ttime.sleep(1)\n",
    "  \n",
    "# 4.3.- una vez asignada la ID tenemos que crear 2 objetos, uno para el contrato y otro para el tipo de orden\n",
    "\n",
    "# Definimos el instrumento financiero que queremos, este caso el par GBP/USD\n",
    "contract = defineContract(symbol='GBP',secType='CASH',exchange='IDEALPRO')\n",
    "\n",
    "# Compramos 25000 libras\n",
    "order = createOrder(action='BUY',totalQuantity=25000,orderType='LMT',lmtPrice='1.36')\n",
    "\n",
    "app.placeOrder(app.nextorderId, contract, order)\n",
    "time.sleep(3)\n",
    "\n",
    "print('cancelling order')\n",
    "app.cancelOrder(app.nextorderId)\n",
    "\n",
    "time.sleep(3)\n",
    "app.disconnect()"
   ]
  }
 ],
 "metadata": {
  "kernelspec": {
   "display_name": "venv-quant",
   "language": "python",
   "name": "python3"
  },
  "language_info": {
   "codemirror_mode": {
    "name": "ipython",
    "version": 3
   },
   "file_extension": ".py",
   "mimetype": "text/x-python",
   "name": "python",
   "nbconvert_exporter": "python",
   "pygments_lexer": "ipython3",
   "version": "3.12.6"
  }
 },
 "nbformat": 4,
 "nbformat_minor": 2
}
