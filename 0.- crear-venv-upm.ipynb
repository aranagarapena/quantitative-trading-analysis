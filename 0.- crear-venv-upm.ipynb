{
 "cells": [
  {
   "cell_type": "markdown",
   "metadata": {},
   "source": [
    "#### 1.- Creamos el entorno virtual e instalamos las librerías que necesitemos\n"
   ]
  },
  {
   "cell_type": "code",
   "execution_count": 5,
   "metadata": {},
   "outputs": [
    {
     "name": "stdout",
     "output_type": "stream",
     "text": [
      "El entorno virtual 'master-upm' ya existe.\n"
     ]
    }
   ],
   "source": [
    "# 1.1.- Creación del entorno virtual\n",
    "import sys\n",
    "import subprocess\n",
    "from pathlib import Path\n",
    "\n",
    "venv_dir = Path(\"master-upm\")\n",
    "if not venv_dir.exists():\n",
    "    subprocess.check_call([sys.executable, \"-m\", \"venv\", str(venv_dir)])\n",
    "    print(\"Entorno virtual 'master-upm' creado.\")\n",
    "else:\n",
    "    print(\"El entorno virtual 'master-upm' ya existe.\")"
   ]
  },
  {
   "cell_type": "code",
   "execution_count": 6,
   "metadata": {},
   "outputs": [
    {
     "name": "stdout",
     "output_type": "stream",
     "text": [
      "Dependencias instaladas en 'master-upm'.\n",
      "Ruta del intérprete activo: c:\\Python312\\python.exe\n"
     ]
    }
   ],
   "source": [
    "# 1.2: Instalar dependencias desde 'requirements.txt'\n",
    "requirements_file = Path(\"requirements.txt\")\n",
    "if requirements_file.is_file():\n",
    "    # Detectar el sistema operativo y usar la ruta adecuada para pip\n",
    "    pip_executable = venv_dir / \"Scripts\" / \"pip\" if sys.platform == \"win32\" else venv_dir / \"bin\" / \"pip\"\n",
    "    try:\n",
    "        subprocess.check_call([str(pip_executable), \"install\", \"-r\", str(requirements_file)])\n",
    "        print(\"Dependencias instaladas en 'master-upm'.\")\n",
    "    except subprocess.CalledProcessError as e:\n",
    "        print(f\"Hubo un error al instalar las dependencias: {e}\")\n",
    "else:\n",
    "    print(\"El archivo 'requirements.txt' no se encuentra en el directorio actual.\")\n",
    "\n",
    "# Paso 3: Verificar el entorno activo (esta verificación solo funciona en sistemas Linux/macOS)\n",
    "print(\"Ruta del intérprete activo:\", sys.executable)"
   ]
  },
  {
   "cell_type": "code",
   "execution_count": 8,
   "metadata": {},
   "outputs": [
    {
     "name": "stdout",
     "output_type": "stream",
     "text": [
      "Las siguientes librerías no están instaladas: ['pandas', 'numpy', 'matplotlib', 'ib_insync', 'scipy', 'openpyxl', 'setuptools']\n"
     ]
    }
   ],
   "source": [
    "# 1.3.- Comprobación de la correcta instalación de las librerías\n",
    "from pathlib import Path\n",
    "import re\n",
    "\n",
    "# Leer el archivo requirements.txt y extraer los nombres de las librerías\n",
    "requirements_file = Path(\"requirements.txt\")\n",
    "\n",
    "if requirements_file.is_file():\n",
    "    with open(requirements_file, \"r\") as f:\n",
    "        # Extraer solo el nombre de la librería, ignorando versiones y comentarios\n",
    "        libraries = [re.split(r\"[><=]\", line.strip())[0] for line in f if line.strip() and not line.startswith(\"#\")]\n",
    "else:\n",
    "    print(\"El archivo 'requirements.txt' no se encuentra en el directorio actual.\")\n",
    "    libraries = []\n",
    "\n",
    "# Verificar si cada librería está instalada\n",
    "missing_libraries = []\n",
    "\n",
    "for lib in libraries:\n",
    "    try:\n",
    "        __import__(lib)\n",
    "    except ImportError:\n",
    "        missing_libraries.append(lib)\n",
    "\n",
    "if not missing_libraries:\n",
    "    print(\"Todas las librerías están instaladas correctamente.\")\n",
    "else:\n",
    "    print(\"Las siguientes librerías no están instaladas:\", missing_libraries)\n"
   ]
  },
  {
   "cell_type": "markdown",
   "metadata": {},
   "source": [
    "#### 2.- Establecemos el entorno virtual como entorno de trabajo actual"
   ]
  },
  {
   "cell_type": "code",
   "execution_count": 9,
   "metadata": {},
   "outputs": [
    {
     "name": "stdout",
     "output_type": "stream",
     "text": [
      "d:\\GIT\\python-labs\\master-upm\n",
      "\n"
     ]
    }
   ],
   "source": [
    "import os\n",
    "import subprocess\n",
    "\n",
    "venv_path = r\"master-upm\"\n",
    "activate_script = os.path.join(venv_path, \"Scripts\", \"activate.bat\")\n",
    "\n",
    "# Ejecuta un comando en el entorno virtual\n",
    "command = f'cmd /c \"{activate_script} && python -c \"import sys; print(sys.prefix)\"'\n",
    "result = subprocess.run(command, capture_output=True, text=True, shell=True)\n",
    "print(result.stdout)"
   ]
  },
  {
   "cell_type": "code",
   "execution_count": 10,
   "metadata": {},
   "outputs": [
    {
     "name": "stdout",
     "output_type": "stream",
     "text": [
      "No estás en un entorno virtual.\n"
     ]
    }
   ],
   "source": [
    "import os\n",
    "import sys\n",
    "\n",
    "def get_virtualenv_name():\n",
    "    venv_path = os.environ.get('VIRTUAL_ENV', None)\n",
    "    if venv_path:\n",
    "        return os.path.basename(venv_path)  # Extrae solo el nombre del directorio\n",
    "    return None\n",
    "\n",
    "def in_virtualenv():\n",
    "    return (hasattr(sys, 'real_prefix') or \n",
    "            (hasattr(sys, 'base_prefix') and sys.base_prefix != sys.prefix) or \n",
    "            'VIRTUAL_ENV' in os.environ)\n",
    "\n",
    "if in_virtualenv():\n",
    "    venv_name = get_virtualenv_name()\n",
    "    print(f\"Estás trabajando en un entorno virtual: {venv_name}\")\n",
    "else:\n",
    "    print(\"No estás en un entorno virtual.\")"
   ]
  },
  {
   "cell_type": "markdown",
   "metadata": {},
   "source": []
  }
 ],
 "metadata": {
  "kernelspec": {
   "display_name": "Python 3",
   "language": "python",
   "name": "python3"
  },
  "language_info": {
   "codemirror_mode": {
    "name": "ipython",
    "version": 3
   },
   "file_extension": ".py",
   "mimetype": "text/x-python",
   "name": "python",
   "nbconvert_exporter": "python",
   "pygments_lexer": "ipython3",
   "version": "3.12.6"
  }
 },
 "nbformat": 4,
 "nbformat_minor": 2
}
